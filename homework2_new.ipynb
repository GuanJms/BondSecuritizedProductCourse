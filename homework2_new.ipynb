{
 "cells": [
  {
   "metadata": {},
   "cell_type": "markdown",
   "source": [
    "# Homework2\n",
    "\n",
    "James Guan; sg7993"
   ],
   "id": "a7511eb340b5d156"
  },
  {
   "metadata": {
    "ExecuteTime": {
     "end_time": "2024-04-15T21:42:52.805534Z",
     "start_time": "2024-04-15T21:42:52.803461Z"
    }
   },
   "cell_type": "code",
   "source": [
    "import numpy as np\n",
    "import pandas as pd\n",
    "\n",
    "# Set display option to not use scientific notation\n",
    "pd.set_option('display.float_format', lambda x: '%.4f' % x)\n",
    "\n",
    "# Now, when you view your DataFrame, it should display numbers in decimal format instead of scientific notation\n"
   ],
   "id": "115885c88c69cc48",
   "outputs": [],
   "execution_count": 2
  },
  {
   "cell_type": "code",
   "id": "initial_id",
   "metadata": {
    "collapsed": true,
    "ExecuteTime": {
     "end_time": "2024-04-15T21:42:53.066618Z",
     "start_time": "2024-04-15T21:42:53.063001Z"
    }
   },
   "source": [
    "def calcualte_monthly_payment(M0, c, n):\n",
    "    \"\"\"\n",
    "    calcualte monthly payment\n",
    "    :param M0: Total loan amount \n",
    "    :param c: Annual coupon rate\n",
    "    :param n: total payment months\n",
    "    :return: monthly payment\n",
    "    \"\"\"\n",
    "    c = c / 12\n",
    "    compound_rate = (1 + c) ** n\n",
    "    B = M0 * c * compound_rate / (compound_rate - 1)\n",
    "    return B\n",
    "\n",
    "\n",
    "def calculate_WAC(c, balances):\n",
    "    \"\"\"\n",
    "    calculate pool weighted average coupon (WAC)\n",
    "    :param c: annual coupon rate\n",
    "    :param balances: loan balances\n",
    "    :return: pool WAC\n",
    "    \"\"\"\n",
    "    c = c / 12\n",
    "    total_balance = sum(balances)\n",
    "    if int(total_balance) == 0:\n",
    "        return 0\n",
    "    total_payment = 0\n",
    "    for i, balance in enumerate(balances):\n",
    "        total_payment += balance * c\n",
    "    return round(total_payment / total_balance * 12 ,5)\n",
    "\n",
    "def calculate_WAL(all_principal_payments_list, all_balances_list, k):\n",
    "    \"\"\"\n",
    "    calculate pool weighted average life (WAL)\n",
    "    :param all_principal_payments_list: a list of principal payments for each loan from 0 to n (0 is the first principal payment)\n",
    "    :param all_balances_list: a list of balances for each loan from 0 to n (principal balance at time 0 is the original loan amount)\n",
    "    :param k: \n",
    "    :return: WAL pool\n",
    "    \"\"\"\n",
    "    numerator = 0\n",
    "    denominator = 0\n",
    "    for l in range(len(all_principal_payments_list)):\n",
    "        all_principal_payments = all_principal_payments_list[l]\n",
    "        all_balances = all_balances_list[l]\n",
    "        for time in range(k+1, len(all_principal_payments)):\n",
    "            numerator += (time - k) * all_principal_payments[time]\n",
    "        denominator += all_balances[k]\n",
    "    if denominator == 0:\n",
    "        return 0\n",
    "    return round(numerator / denominator, 4)"
   ],
   "outputs": [],
   "execution_count": 3
  },
  {
   "metadata": {},
   "cell_type": "markdown",
   "source": "# Loan from Pool1",
   "id": "ec277f02e7151f36"
  },
  {
   "metadata": {},
   "cell_type": "markdown",
   "source": "Since each loan has the same characteristics, the loan size is the same and the WAC is the same. Given the loan is fixed rate, WAC remain same for the pool at 6.4%.",
   "id": "80a11f7b30fab9f1"
  },
  {
   "metadata": {
    "ExecuteTime": {
     "end_time": "2024-04-15T21:42:53.800780Z",
     "start_time": "2024-04-15T21:42:53.798570Z"
    }
   },
   "cell_type": "code",
   "source": [
    "loan_size = 100_000\n",
    "WAC1 = 0.064\n",
    "WALA = 1\n",
    "payment_period1 = 15 * 12 \n",
    "loan_number = 1000\n",
    "ind_monthly_payment1 = calcualte_monthly_payment(loan_size, WAC1, payment_period1)\n",
    "pool_monthly_payment1 = ind_monthly_payment1 * loan_number\n",
    "print(\"Individual loan monthly payment:\", round(ind_monthly_payment1,4))\n",
    "print(\"Total monthly payment:\", round(pool_monthly_payment1, 4))\n"
   ],
   "id": "da74309600685ce2",
   "outputs": [
    {
     "name": "stdout",
     "output_type": "stream",
     "text": [
      "Individual loan monthly payment: 865.6194\n",
      "Total monthly payment: 865619.4052\n"
     ]
    }
   ],
   "execution_count": 4
  },
  {
   "metadata": {
    "ExecuteTime": {
     "end_time": "2024-04-15T21:42:54.439537Z",
     "start_time": "2024-04-15T21:42:54.437519Z"
    }
   },
   "cell_type": "code",
   "source": [
    "ind_interest_payment1 = WAC1/12 * loan_size\n",
    "pool_interest_payment1 = ind_interest_payment1 * loan_number\n",
    "print(\"Individual loan monthly interest payment:\", round(ind_interest_payment1, 4))\n",
    "print(\"Total monthly interest payment:\", round(pool_interest_payment1, 4))"
   ],
   "id": "2ad1606f992922d",
   "outputs": [
    {
     "name": "stdout",
     "output_type": "stream",
     "text": [
      "Individual loan monthly interest payment: 533.3333\n",
      "Total monthly interest payment: 533333.3333\n"
     ]
    }
   ],
   "execution_count": 5
  },
  {
   "metadata": {
    "ExecuteTime": {
     "end_time": "2024-04-15T21:42:54.679557Z",
     "start_time": "2024-04-15T21:42:54.677526Z"
    }
   },
   "cell_type": "code",
   "source": [
    "ind_principal_payment1 = ind_monthly_payment1 - ind_interest_payment1\n",
    "pool_principal_payment1 = ind_principal_payment1 * loan_number\n",
    "print(\"Individual loan monthly principal payment:\", round(ind_principal_payment1, 4))\n",
    "print(\"Total monthly principal payment:\", round(pool_principal_payment1, 4))"
   ],
   "id": "4d681f0ca12a959c",
   "outputs": [
    {
     "name": "stdout",
     "output_type": "stream",
     "text": [
      "Individual loan monthly principal payment: 332.2861\n",
      "Total monthly principal payment: 332286.0718\n"
     ]
    }
   ],
   "execution_count": 6
  },
  {
   "metadata": {
    "ExecuteTime": {
     "end_time": "2024-04-15T21:42:55.158960Z",
     "start_time": "2024-04-15T21:42:55.156644Z"
    }
   },
   "cell_type": "code",
   "source": [
    "total_months = 15 * 12\n",
    "M0 = loan_size\n",
    "c = WAC1 / 12\n",
    "# Calculate lifecycle payment schedule\n",
    "ind_remaining_principals = [M0]\n",
    "ind_interest_payments = [0]\n",
    "ind_principal_payments = [0]\n",
    "for i in range(1, total_months+1):\n",
    "    interest_payment = ind_remaining_principals[i-1] * c\n",
    "    principal_payment = ind_monthly_payment1 - interest_payment\n",
    "    remaining_principal = ind_remaining_principals[i-1] - principal_payment\n",
    "    ind_remaining_principals.append(remaining_principal)\n",
    "    ind_interest_payments.append(interest_payment)\n",
    "    ind_principal_payments.append(principal_payment)"
   ],
   "id": "f436d5fb1ab11833",
   "outputs": [],
   "execution_count": 7
  },
  {
   "metadata": {
    "ExecuteTime": {
     "end_time": "2024-04-15T21:42:55.677052Z",
     "start_time": "2024-04-15T21:42:55.674761Z"
    }
   },
   "cell_type": "code",
   "source": [
    "total_months = 15 * 12\n",
    "c = WAC1 / 12\n",
    "# Calculate lifecycle payment schedule\n",
    "pool_remaining_principals = [M0 * loan_number]\n",
    "pool_interest_payments = [0]\n",
    "pool_principal_payments = [0]\n",
    "for i in range(1, total_months+1):\n",
    "    pool_interest_payment = ind_interest_payments[i] * loan_number\n",
    "    pool_principal_payment = ind_principal_payments[i] * loan_number\n",
    "    pool_remaining_principal = ind_remaining_principals[i] * loan_number\n",
    "    pool_interest_payments.append(pool_interest_payment)\n",
    "    pool_principal_payments.append(pool_principal_payment)\n",
    "    pool_remaining_principals.append(pool_remaining_principal)"
   ],
   "id": "da9d9cd25c5a36c7",
   "outputs": [],
   "execution_count": 8
  },
  {
   "metadata": {
    "ExecuteTime": {
     "end_time": "2024-04-15T21:42:56.666729Z",
     "start_time": "2024-04-15T21:42:56.663073Z"
    }
   },
   "cell_type": "code",
   "source": "len(pool_remaining_principals)",
   "id": "753cecbeb46274cf",
   "outputs": [
    {
     "data": {
      "text/plain": [
       "181"
      ]
     },
     "execution_count": 9,
     "metadata": {},
     "output_type": "execute_result"
    }
   ],
   "execution_count": 9
  },
  {
   "metadata": {
    "ExecuteTime": {
     "end_time": "2024-04-15T21:42:57.130516Z",
     "start_time": "2024-04-15T21:42:57.128105Z"
    }
   },
   "cell_type": "code",
   "source": [
    "remaining_month = [month_index for month_index in range(2, total_months + 1)]\n",
    "unpaid_balance = [round(pool_remaining_principals[month_index],4) for month_index in remaining_month]\n",
    "scheduled_principal_payments = [round(pool_principal_payments[month_index],4) for month_index in remaining_month]\n",
    "unscheduled_principal_payments = [0] * len(remaining_month)\n",
    "interest_expense = [round(pool_interest_payments[month_index],4) for month_index in remaining_month]"
   ],
   "id": "840d473642bbebc8",
   "outputs": [],
   "execution_count": 10
  },
  {
   "metadata": {
    "ExecuteTime": {
     "end_time": "2024-04-15T21:43:00.860405Z",
     "start_time": "2024-04-15T21:43:00.850744Z"
    }
   },
   "cell_type": "code",
   "source": [
    "WACs = []\n",
    "for month_index in remaining_month:\n",
    "    WAC = calculate_WAC(WAC1, [pool_remaining_principals[month_index]]*loan_number)\n",
    "    WACs.append(WAC)"
   ],
   "id": "6a63f890bc3791f",
   "outputs": [],
   "execution_count": 11
  },
  {
   "metadata": {
    "ExecuteTime": {
     "end_time": "2024-04-15T21:43:01.806478Z",
     "start_time": "2024-04-15T21:43:01.291206Z"
    }
   },
   "cell_type": "code",
   "source": [
    "WALs = []\n",
    "for month_index in remaining_month:\n",
    "    wal = calculate_WAL([ind_principal_payments]*loan_number, [ind_remaining_principals]*loan_number, month_index)\n",
    "    WALs.append(wal)"
   ],
   "id": "8671253c6dc9522",
   "outputs": [],
   "execution_count": 12
  },
  {
   "metadata": {
    "ExecuteTime": {
     "end_time": "2024-04-15T21:43:01.810941Z",
     "start_time": "2024-04-15T21:43:01.807529Z"
    }
   },
   "cell_type": "code",
   "source": [
    "pool1_result = pd.DataFrame({\n",
    "    \"Month\": remaining_month,\n",
    "    \"Beginning Balance\": np.round([pool_remaining_principals[month_index-1] for month_index in remaining_month], 4),\n",
    "    \"Scheduled Principal Payments\": scheduled_principal_payments,\n",
    "    \"Unscheduled Principal Payments\": unscheduled_principal_payments,\n",
    "    \"Interest Expense\": interest_expense,\n",
    "    \"Unpaid Balance\": unpaid_balance,\n",
    "        \"WAC\": WACs,\n",
    "    \"WAL\": WALs,\n",
    "    \"SMM\": [0] * len(remaining_month),\n",
    "})\n",
    "pool1_result.set_index(\"Month\", inplace=True)"
   ],
   "id": "1fac50f98394a4c2",
   "outputs": [],
   "execution_count": 13
  },
  {
   "metadata": {
    "ExecuteTime": {
     "end_time": "2024-04-15T21:43:45.289920Z",
     "start_time": "2024-04-15T21:43:45.284508Z"
    }
   },
   "cell_type": "code",
   "source": "pool1_result",
   "id": "477fa176c047ba74",
   "outputs": [
    {
     "data": {
      "text/plain": [
       "       Beginning Balance  Scheduled Principal Payments  \\\n",
       "Month                                                    \n",
       "2          99667713.9282                   334058.2642   \n",
       "3          99333655.6640                   335839.9083   \n",
       "4          98997815.7557                   337631.0545   \n",
       "5          98660184.7012                   339431.7534   \n",
       "6          98320752.9478                   341242.0561   \n",
       "...                  ...                           ...   \n",
       "176         4259700.1408                   842901.0044   \n",
       "177         3416799.1364                   847396.4764   \n",
       "178         2569402.6600                   851915.9243   \n",
       "179         1717486.7357                   856459.4759   \n",
       "180          861027.2598                   861027.2598   \n",
       "\n",
       "       Unscheduled Principal Payments  Interest Expense  Unpaid Balance  \\\n",
       "Month                                                                     \n",
       "2                                   0       531561.1410   99333655.6640   \n",
       "3                                   0       529779.4969   98997815.7557   \n",
       "4                                   0       527988.3507   98660184.7012   \n",
       "5                                   0       526187.6517   98320752.9478   \n",
       "6                                   0       524377.3491   97979510.8917   \n",
       "...                               ...               ...             ...   \n",
       "176                                 0        22718.4008    3416799.1364   \n",
       "177                                 0        18222.9287    2569402.6600   \n",
       "178                                 0        13703.4809    1717486.7357   \n",
       "179                                 0         9159.9293     861027.2598   \n",
       "180                                 0         4592.1454          0.0000   \n",
       "\n",
       "         WAC      WAL  SMM  \n",
       "Month                       \n",
       "2     0.0640 103.3385    0  \n",
       "3     0.0640 102.6856    0  \n",
       "4     0.0640 102.0336    0  \n",
       "5     0.0640 101.3824    0  \n",
       "6     0.0640 100.7320    0  \n",
       "...      ...      ...  ...  \n",
       "176   0.0640   2.5066    0  \n",
       "177   0.0640   2.0035    0  \n",
       "178   0.0640   1.5013    0  \n",
       "179   0.0640   1.0000    0  \n",
       "180   0.0000   0.0000    0  \n",
       "\n",
       "[179 rows x 8 columns]"
      ],
      "text/html": [
       "<div>\n",
       "<style scoped>\n",
       "    .dataframe tbody tr th:only-of-type {\n",
       "        vertical-align: middle;\n",
       "    }\n",
       "\n",
       "    .dataframe tbody tr th {\n",
       "        vertical-align: top;\n",
       "    }\n",
       "\n",
       "    .dataframe thead th {\n",
       "        text-align: right;\n",
       "    }\n",
       "</style>\n",
       "<table border=\"1\" class=\"dataframe\">\n",
       "  <thead>\n",
       "    <tr style=\"text-align: right;\">\n",
       "      <th></th>\n",
       "      <th>Beginning Balance</th>\n",
       "      <th>Scheduled Principal Payments</th>\n",
       "      <th>Unscheduled Principal Payments</th>\n",
       "      <th>Interest Expense</th>\n",
       "      <th>Unpaid Balance</th>\n",
       "      <th>WAC</th>\n",
       "      <th>WAL</th>\n",
       "      <th>SMM</th>\n",
       "    </tr>\n",
       "    <tr>\n",
       "      <th>Month</th>\n",
       "      <th></th>\n",
       "      <th></th>\n",
       "      <th></th>\n",
       "      <th></th>\n",
       "      <th></th>\n",
       "      <th></th>\n",
       "      <th></th>\n",
       "      <th></th>\n",
       "    </tr>\n",
       "  </thead>\n",
       "  <tbody>\n",
       "    <tr>\n",
       "      <th>2</th>\n",
       "      <td>99667713.9282</td>\n",
       "      <td>334058.2642</td>\n",
       "      <td>0</td>\n",
       "      <td>531561.1410</td>\n",
       "      <td>99333655.6640</td>\n",
       "      <td>0.0640</td>\n",
       "      <td>103.3385</td>\n",
       "      <td>0</td>\n",
       "    </tr>\n",
       "    <tr>\n",
       "      <th>3</th>\n",
       "      <td>99333655.6640</td>\n",
       "      <td>335839.9083</td>\n",
       "      <td>0</td>\n",
       "      <td>529779.4969</td>\n",
       "      <td>98997815.7557</td>\n",
       "      <td>0.0640</td>\n",
       "      <td>102.6856</td>\n",
       "      <td>0</td>\n",
       "    </tr>\n",
       "    <tr>\n",
       "      <th>4</th>\n",
       "      <td>98997815.7557</td>\n",
       "      <td>337631.0545</td>\n",
       "      <td>0</td>\n",
       "      <td>527988.3507</td>\n",
       "      <td>98660184.7012</td>\n",
       "      <td>0.0640</td>\n",
       "      <td>102.0336</td>\n",
       "      <td>0</td>\n",
       "    </tr>\n",
       "    <tr>\n",
       "      <th>5</th>\n",
       "      <td>98660184.7012</td>\n",
       "      <td>339431.7534</td>\n",
       "      <td>0</td>\n",
       "      <td>526187.6517</td>\n",
       "      <td>98320752.9478</td>\n",
       "      <td>0.0640</td>\n",
       "      <td>101.3824</td>\n",
       "      <td>0</td>\n",
       "    </tr>\n",
       "    <tr>\n",
       "      <th>6</th>\n",
       "      <td>98320752.9478</td>\n",
       "      <td>341242.0561</td>\n",
       "      <td>0</td>\n",
       "      <td>524377.3491</td>\n",
       "      <td>97979510.8917</td>\n",
       "      <td>0.0640</td>\n",
       "      <td>100.7320</td>\n",
       "      <td>0</td>\n",
       "    </tr>\n",
       "    <tr>\n",
       "      <th>...</th>\n",
       "      <td>...</td>\n",
       "      <td>...</td>\n",
       "      <td>...</td>\n",
       "      <td>...</td>\n",
       "      <td>...</td>\n",
       "      <td>...</td>\n",
       "      <td>...</td>\n",
       "      <td>...</td>\n",
       "    </tr>\n",
       "    <tr>\n",
       "      <th>176</th>\n",
       "      <td>4259700.1408</td>\n",
       "      <td>842901.0044</td>\n",
       "      <td>0</td>\n",
       "      <td>22718.4008</td>\n",
       "      <td>3416799.1364</td>\n",
       "      <td>0.0640</td>\n",
       "      <td>2.5066</td>\n",
       "      <td>0</td>\n",
       "    </tr>\n",
       "    <tr>\n",
       "      <th>177</th>\n",
       "      <td>3416799.1364</td>\n",
       "      <td>847396.4764</td>\n",
       "      <td>0</td>\n",
       "      <td>18222.9287</td>\n",
       "      <td>2569402.6600</td>\n",
       "      <td>0.0640</td>\n",
       "      <td>2.0035</td>\n",
       "      <td>0</td>\n",
       "    </tr>\n",
       "    <tr>\n",
       "      <th>178</th>\n",
       "      <td>2569402.6600</td>\n",
       "      <td>851915.9243</td>\n",
       "      <td>0</td>\n",
       "      <td>13703.4809</td>\n",
       "      <td>1717486.7357</td>\n",
       "      <td>0.0640</td>\n",
       "      <td>1.5013</td>\n",
       "      <td>0</td>\n",
       "    </tr>\n",
       "    <tr>\n",
       "      <th>179</th>\n",
       "      <td>1717486.7357</td>\n",
       "      <td>856459.4759</td>\n",
       "      <td>0</td>\n",
       "      <td>9159.9293</td>\n",
       "      <td>861027.2598</td>\n",
       "      <td>0.0640</td>\n",
       "      <td>1.0000</td>\n",
       "      <td>0</td>\n",
       "    </tr>\n",
       "    <tr>\n",
       "      <th>180</th>\n",
       "      <td>861027.2598</td>\n",
       "      <td>861027.2598</td>\n",
       "      <td>0</td>\n",
       "      <td>4592.1454</td>\n",
       "      <td>0.0000</td>\n",
       "      <td>0.0000</td>\n",
       "      <td>0.0000</td>\n",
       "      <td>0</td>\n",
       "    </tr>\n",
       "  </tbody>\n",
       "</table>\n",
       "<p>179 rows × 8 columns</p>\n",
       "</div>"
      ]
     },
     "execution_count": 16,
     "metadata": {},
     "output_type": "execute_result"
    }
   ],
   "execution_count": 16
  },
  {
   "metadata": {
    "ExecuteTime": {
     "end_time": "2024-04-15T21:43:36.687056Z",
     "start_time": "2024-04-15T21:43:36.433817Z"
    }
   },
   "cell_type": "code",
   "source": "",
   "id": "9eb9bbaeb7a56cf9",
   "outputs": [
    {
     "data": {
      "text/plain": [
       "<Axes: xlabel='Month'>"
      ]
     },
     "execution_count": 15,
     "metadata": {},
     "output_type": "execute_result"
    },
    {
     "data": {
      "text/plain": [
       "<Figure size 640x480 with 1 Axes>"
      ],
      "image/png": "[encoded data removed]"
     },
     "metadata": {},
     "output_type": "display_data"
    }
   ],
   "execution_count": 15
  },
  {
   "metadata": {},
   "cell_type": "markdown",
   "source": [
    "# Loan from Pool2\n",
    "\n",
    "Pool2: 7000 loans are 30yr fixed-rate 6.80% WAC, 0 months WALA, SMM 1%. And assume that borrowers just prepay entire loan (nobody curtails). "
   ],
   "id": "5a6982417e4eb535"
  },
  {
   "metadata": {
    "ExecuteTime": {
     "end_time": "2024-04-15T21:45:20.780958Z",
     "start_time": "2024-04-15T21:45:20.776816Z"
    }
   },
   "cell_type": "code",
   "source": [
    "loan_number2 = 7000\n",
    "loan_size = 100_000\n",
    "WAC2 = 0.068\n",
    "payment_period2 = 30 * 12 \n",
    "pool2_ind_monthly_payment = calcualte_monthly_payment(loan_size, WAC2, payment_period2)\n",
    "pool2_monthly_payment = pool2_ind_monthly_payment * loan_number2\n",
    "print(\"Pool2 - Individual loan monthly payment:\", round(pool2_ind_monthly_payment, 4))\n",
    "print(\"Pool2 - Total monthly payment:\", round(pool2_monthly_payment, 4))\n",
    "\n",
    "pool2_ind_interest_payment = WAC2 / 12 * loan_size\n",
    "pool2_interest_payment = pool2_ind_interest_payment * loan_number2\n",
    "print(\"Pool2 - Individual loan monthly interest payment:\", round(pool2_ind_interest_payment, 4))\n",
    "print(\"Pool2 - Scheduled monthly interest payment:\", round(pool2_interest_payment, 4))\n",
    "\n",
    "pool2_ind_principal_payment = pool2_ind_monthly_payment - pool2_ind_interest_payment\n",
    "pool2_principal_payment = pool2_ind_principal_payment * loan_number2\n",
    "print(\"Pool2 - Individual loan monthly principal payment:\", round(pool2_ind_principal_payment, 4))\n",
    "print(\"Pool2 - Scheduled monthly principal payment:\", round(pool2_principal_payment, 4))\n"
   ],
   "id": "423f3aacf3e5635c",
   "outputs": [
    {
     "name": "stdout",
     "output_type": "stream",
     "text": [
      "Pool2 - Individual loan monthly payment: 651.9252\n",
      "Pool2 - Total monthly payment: 4563476.3172\n",
      "Pool2 - Individual loan monthly interest payment: 566.6667\n",
      "Pool2 - Scheduled monthly interest payment: 3966666.6667\n",
      "Pool2 - Individual loan monthly principal payment: 85.2585\n",
      "Pool2 - Scheduled monthly principal payment: 596809.6505\n"
     ]
    }
   ],
   "execution_count": 17
  },
  {
   "metadata": {
    "ExecuteTime": {
     "end_time": "2024-04-15T21:45:22.111930Z",
     "start_time": "2024-04-15T21:45:22.109322Z"
    }
   },
   "cell_type": "code",
   "source": [
    "total_months2 = 30 * 12\n",
    "M0 = loan_size\n",
    "c = WAC2 / 12\n",
    "# Calculate lifecycle payment schedule\n",
    "pool2_ind_remaining_principals = [M0]\n",
    "pool2_ind_interest_payments = [0]\n",
    "pool2_ind_principal_payments = [0]\n",
    "for i in range(1, total_months2+1):\n",
    "    interest_payment = pool2_ind_remaining_principals[i - 1] * c\n",
    "    principal_payment = pool2_ind_monthly_payment - interest_payment\n",
    "    remaining_principal = pool2_ind_remaining_principals[i - 1] - principal_payment\n",
    "    pool2_ind_remaining_principals.append(remaining_principal)\n",
    "    pool2_ind_interest_payments.append(interest_payment)\n",
    "    pool2_ind_principal_payments.append(principal_payment)"
   ],
   "id": "6034c63b74d48fd6",
   "outputs": [],
   "execution_count": 18
  },
  {
   "metadata": {},
   "cell_type": "markdown",
   "source": "In pool2, there is a 1% SMM. Loan number will change throughout the lifecycle.",
   "id": "3719d331b15c35f8"
  },
  {
   "metadata": {
    "ExecuteTime": {
     "end_time": "2024-04-15T21:45:25.385951Z",
     "start_time": "2024-04-15T21:45:25.383702Z"
    }
   },
   "cell_type": "code",
   "source": [
    "import math\n",
    "\n",
    "SMM2 = 0.01\n",
    "pool2_loan_numbers = [loan_number2]\n",
    "\n",
    "for i in range(1, total_months2+1):\n",
    "    next_month_loan_number = pool2_loan_numbers[i-1] - math.floor(pool2_loan_numbers[i-1] * SMM2)\n",
    "    pool2_loan_numbers.append(next_month_loan_number)"
   ],
   "id": "d0df78c11d7fe93b",
   "outputs": [],
   "execution_count": 19
  },
  {
   "metadata": {
    "ExecuteTime": {
     "end_time": "2024-04-15T21:45:25.728538Z",
     "start_time": "2024-04-15T21:45:25.726238Z"
    }
   },
   "cell_type": "code",
   "source": "pool2_ind_principal_payment",
   "id": "338841301013822f",
   "outputs": [
    {
     "data": {
      "text/plain": [
       "85.258521498243"
      ]
     },
     "execution_count": 20,
     "metadata": {},
     "output_type": "execute_result"
    }
   ],
   "execution_count": 20
  },
  {
   "metadata": {
    "ExecuteTime": {
     "end_time": "2024-04-15T21:45:26.080537Z",
     "start_time": "2024-04-15T21:45:26.077681Z"
    }
   },
   "cell_type": "code",
   "source": [
    "pool2_total_months = 30 * 12\n",
    "c = WAC2 / 12\n",
    "# Calculate lifecycle payment schedule\n",
    "pool2_remaining_principals = [loan_size * loan_number2]\n",
    "\n",
    "pool2_interest_payments = [0]\n",
    "pool2_principal_payments = [0]\n",
    "pool2_scheduled_principal_payments = [0]\n",
    "pool2_unscheduled_principal_payments = [0]\n",
    "for i in range(1, pool2_total_months+1):\n",
    "    pool2_interest_payment = pool2_ind_interest_payments[i] * pool2_loan_numbers[i-1]\n",
    "    pool2_scheduled_principal_payment = pool2_ind_principal_payments[i] * pool2_loan_numbers[i-1]\n",
    "    pool2_principal_payment = pool2_ind_principal_payments[i] * pool2_loan_numbers[i] + (pool2_loan_numbers[i-1] - pool2_loan_numbers[i]) * pool2_ind_remaining_principals[i-1]\n",
    "    pool2_unscheduled_principal_payment =  pool2_principal_payment -pool2_scheduled_principal_payment\n",
    "    pool2_remaining_principal = pool2_ind_remaining_principals[i] * pool2_loan_numbers[i]\n",
    "    pool2_interest_payments.append(pool2_interest_payment)\n",
    "    pool2_principal_payments.append(pool2_principal_payment)\n",
    "    pool2_scheduled_principal_payments.append(pool2_scheduled_principal_payment)\n",
    "    pool2_unscheduled_principal_payments.append(pool2_unscheduled_principal_payment)\n",
    "    pool2_remaining_principals.append(pool2_remaining_principal)"
   ],
   "id": "2572af8128f0ca24",
   "outputs": [],
   "execution_count": 21
  },
  {
   "metadata": {
    "ExecuteTime": {
     "end_time": "2024-04-15T21:52:40.626640Z",
     "start_time": "2024-04-15T21:52:40.623933Z"
    }
   },
   "cell_type": "code",
   "source": [
    "pool2_remaining_month = [month_index for month_index in range(1, pool2_total_months + 1)]\n",
    "pool2_unpaid_balance = [round(pool2_remaining_principals[month_index],4) for month_index in pool2_remaining_month]\n",
    "pool2_interest_expense = [round(pool2_interest_payments[month_index],4) for month_index in pool2_remaining_month]"
   ],
   "id": "409b152ce7552245",
   "outputs": [],
   "execution_count": 22
  },
  {
   "metadata": {
    "ExecuteTime": {
     "end_time": "2024-04-15T21:52:45.610294Z",
     "start_time": "2024-04-15T21:52:45.584698Z"
    }
   },
   "cell_type": "code",
   "source": [
    "pool2_WACs = []\n",
    "for month_index in pool2_remaining_month:\n",
    "    wac = calculate_WAC(WAC2, [pool2_remaining_principals[month_index]]*pool2_loan_numbers[month_index])\n",
    "    pool2_WACs.append(wac)"
   ],
   "id": "c49ff359c11f529c",
   "outputs": [],
   "execution_count": 23
  },
  {
   "metadata": {
    "ExecuteTime": {
     "end_time": "2024-04-15T21:52:52.189548Z",
     "start_time": "2024-04-15T21:52:45.784318Z"
    }
   },
   "cell_type": "code",
   "source": [
    "pool2_WALs = []\n",
    "for month_index in pool2_remaining_month:\n",
    "    wal = calculate_WAL([pool2_ind_principal_payments] * pool2_loan_numbers[month_index],  \n",
    "                        [pool2_ind_remaining_principals] * pool2_loan_numbers[month_index], \n",
    "                        month_index)\n",
    "    pool2_WALs.append(wal)"
   ],
   "id": "a06c74de5b678b97",
   "outputs": [],
   "execution_count": 24
  },
  {
   "metadata": {},
   "cell_type": "markdown",
   "source": "Now let us calculate SSM for pool2.",
   "id": "dacb2268b5947a76"
  },
  {
   "metadata": {
    "ExecuteTime": {
     "end_time": "2024-04-15T21:52:52.192681Z",
     "start_time": "2024-04-15T21:52:52.190563Z"
    }
   },
   "cell_type": "code",
   "source": "pool2_scheduled_principal_payments[0:5]",
   "id": "efeca937082e7ac6",
   "outputs": [
    {
     "data": {
      "text/plain": [
       "[0, 596809.650487701, 594189.6561220603, 591607.0317884308, 589062.7737673998]"
      ]
     },
     "execution_count": 25,
     "metadata": {},
     "output_type": "execute_result"
    }
   ],
   "execution_count": 25
  },
  {
   "metadata": {
    "ExecuteTime": {
     "end_time": "2024-04-15T21:52:52.195295Z",
     "start_time": "2024-04-15T21:52:52.193259Z"
    }
   },
   "cell_type": "code",
   "source": [
    "# SMM_t = (Scheduled Balance_t - Actual Balance_t) / Scheduled Balance_t\n",
    "pool2_SMMs = [0]\n",
    "for i in range(1, pool2_total_months+1):\n",
    "    previous_remaining_principal = pool2_remaining_principals[i-1]\n",
    "    scheduled_principal_payment = pool2_scheduled_principal_payments[i]\n",
    "    scheduled_balance = previous_remaining_principal - scheduled_principal_payment\n",
    "    actual_balance = pool2_remaining_principals[i]\n",
    "    SMM = (scheduled_balance - actual_balance) / scheduled_balance\n",
    "    pool2_SMMs.append(SMM)"
   ],
   "id": "2151bf1fde9bc937",
   "outputs": [],
   "execution_count": 26
  },
  {
   "metadata": {
    "ExecuteTime": {
     "end_time": "2024-04-15T21:52:52.199481Z",
     "start_time": "2024-04-15T21:52:52.196369Z"
    }
   },
   "cell_type": "code",
   "source": [
    "pool2_result = pd.DataFrame({\n",
    "    \"Month\": pool2_remaining_month,\n",
    "    \"Beginning Balance\": np.round([pool2_remaining_principals[month_index-1] for month_index in pool2_remaining_month], 4),\n",
    "    \"Scheduled Principal Payments\": np.round([pool2_scheduled_principal_payments[month_index] for month_index in pool2_remaining_month], 4),\n",
    "    \"Unscheduled Principal Payments\": np.round([pool2_unscheduled_principal_payments[month_index] for month_index in pool2_remaining_month], 4),\n",
    "    \"Interest Expense\": pool2_interest_expense,\n",
    "    \"Unpaid Balance\": pool2_unpaid_balance,\n",
    "    \"WAC\": pool2_WACs,\n",
    "    \"WAL\": pool2_WALs,\n",
    "    \"SMM\": np.round([pool2_SMMs[month_index] for month_index in pool2_remaining_month], 4),\n",
    "})\n",
    "pool2_result.set_index(\"Month\", inplace=True)"
   ],
   "id": "f73d70bd03d1ec45",
   "outputs": [],
   "execution_count": 27
  },
  {
   "metadata": {
    "ExecuteTime": {
     "end_time": "2024-04-15T21:52:52.204524Z",
     "start_time": "2024-04-15T21:52:52.200079Z"
    }
   },
   "cell_type": "code",
   "source": "pool2_result",
   "id": "393d6c3cafd5af9d",
   "outputs": [
    {
     "data": {
      "text/plain": [
       "       Beginning Balance  Scheduled Principal Payments  \\\n",
       "Month                                                    \n",
       "1         700000000.0000                   596809.6505   \n",
       "2         692409158.4460                   594189.6561   \n",
       "3         684926767.8019                   591607.0318   \n",
       "4         677552652.2536                   589062.7738   \n",
       "5         670286633.7172                   586557.8912   \n",
       "...                  ...                           ...   \n",
       "356          798029.2561                   157807.2061   \n",
       "357          635079.7042                   157426.7365   \n",
       "358          473785.3324                   157036.8876   \n",
       "359          314162.7432                   156637.5652   \n",
       "360          156228.6745                   156228.6745   \n",
       "\n",
       "       Unscheduled Principal Payments  Interest Expense  Unpaid Balance  \\\n",
       "Month                                                                     \n",
       "1                        6994031.9035      3966666.6667  692409158.4460   \n",
       "2                        6888200.9880      3923651.8979  684926767.8019   \n",
       "3                        6782508.5166      3881251.6842  677552652.2536   \n",
       "4                        6676955.7626      3839465.0294  670286633.7172   \n",
       "5                        6671112.8576      3798290.9244  663028962.9684   \n",
       "...                               ...               ...             ...   \n",
       "356                         5142.3458         4522.1658     635079.7042   \n",
       "357                         3867.6354         3598.7850     473785.3324   \n",
       "358                         2585.7016         2684.7836     314162.7432   \n",
       "359                         1296.5035         1780.2555     156228.6745   \n",
       "360                            0.0000          885.2958          0.0000   \n",
       "\n",
       "         WAC      WAL    SMM  \n",
       "Month                         \n",
       "1     0.0680 236.8956 0.0100  \n",
       "2     0.0680 236.0982 0.0100  \n",
       "3     0.0680 235.3015 0.0099  \n",
       "4     0.0680 234.5054 0.0099  \n",
       "5     0.0680 233.7099 0.0100  \n",
       "...      ...      ...    ...  \n",
       "356   0.0680   2.5071 0.0080  \n",
       "357   0.0680   2.0038 0.0081  \n",
       "358   0.0680   1.5014 0.0082  \n",
       "359   0.0680   1.0000 0.0082  \n",
       "360   0.0000   0.0000 0.0083  \n",
       "\n",
       "[360 rows x 8 columns]"
      ],
      "text/html": [
       "<div>\n",
       "<style scoped>\n",
       "    .dataframe tbody tr th:only-of-type {\n",
       "        vertical-align: middle;\n",
       "    }\n",
       "\n",
       "    .dataframe tbody tr th {\n",
       "        vertical-align: top;\n",
       "    }\n",
       "\n",
       "    .dataframe thead th {\n",
       "        text-align: right;\n",
       "    }\n",
       "</style>\n",
       "<table border=\"1\" class=\"dataframe\">\n",
       "  <thead>\n",
       "    <tr style=\"text-align: right;\">\n",
       "      <th></th>\n",
       "      <th>Beginning Balance</th>\n",
       "      <th>Scheduled Principal Payments</th>\n",
       "      <th>Unscheduled Principal Payments</th>\n",
       "      <th>Interest Expense</th>\n",
       "      <th>Unpaid Balance</th>\n",
       "      <th>WAC</th>\n",
       "      <th>WAL</th>\n",
       "      <th>SMM</th>\n",
       "    </tr>\n",
       "    <tr>\n",
       "      <th>Month</th>\n",
       "      <th></th>\n",
       "      <th></th>\n",
       "      <th></th>\n",
       "      <th></th>\n",
       "      <th></th>\n",
       "      <th></th>\n",
       "      <th></th>\n",
       "      <th></th>\n",
       "    </tr>\n",
       "  </thead>\n",
       "  <tbody>\n",
       "    <tr>\n",
       "      <th>1</th>\n",
       "      <td>700000000.0000</td>\n",
       "      <td>596809.6505</td>\n",
       "      <td>6994031.9035</td>\n",
       "      <td>3966666.6667</td>\n",
       "      <td>692409158.4460</td>\n",
       "      <td>0.0680</td>\n",
       "      <td>236.8956</td>\n",
       "      <td>0.0100</td>\n",
       "    </tr>\n",
       "    <tr>\n",
       "      <th>2</th>\n",
       "      <td>692409158.4460</td>\n",
       "      <td>594189.6561</td>\n",
       "      <td>6888200.9880</td>\n",
       "      <td>3923651.8979</td>\n",
       "      <td>684926767.8019</td>\n",
       "      <td>0.0680</td>\n",
       "      <td>236.0982</td>\n",
       "      <td>0.0100</td>\n",
       "    </tr>\n",
       "    <tr>\n",
       "      <th>3</th>\n",
       "      <td>684926767.8019</td>\n",
       "      <td>591607.0318</td>\n",
       "      <td>6782508.5166</td>\n",
       "      <td>3881251.6842</td>\n",
       "      <td>677552652.2536</td>\n",
       "      <td>0.0680</td>\n",
       "      <td>235.3015</td>\n",
       "      <td>0.0099</td>\n",
       "    </tr>\n",
       "    <tr>\n",
       "      <th>4</th>\n",
       "      <td>677552652.2536</td>\n",
       "      <td>589062.7738</td>\n",
       "      <td>6676955.7626</td>\n",
       "      <td>3839465.0294</td>\n",
       "      <td>670286633.7172</td>\n",
       "      <td>0.0680</td>\n",
       "      <td>234.5054</td>\n",
       "      <td>0.0099</td>\n",
       "    </tr>\n",
       "    <tr>\n",
       "      <th>5</th>\n",
       "      <td>670286633.7172</td>\n",
       "      <td>586557.8912</td>\n",
       "      <td>6671112.8576</td>\n",
       "      <td>3798290.9244</td>\n",
       "      <td>663028962.9684</td>\n",
       "      <td>0.0680</td>\n",
       "      <td>233.7099</td>\n",
       "      <td>0.0100</td>\n",
       "    </tr>\n",
       "    <tr>\n",
       "      <th>...</th>\n",
       "      <td>...</td>\n",
       "      <td>...</td>\n",
       "      <td>...</td>\n",
       "      <td>...</td>\n",
       "      <td>...</td>\n",
       "      <td>...</td>\n",
       "      <td>...</td>\n",
       "      <td>...</td>\n",
       "    </tr>\n",
       "    <tr>\n",
       "      <th>356</th>\n",
       "      <td>798029.2561</td>\n",
       "      <td>157807.2061</td>\n",
       "      <td>5142.3458</td>\n",
       "      <td>4522.1658</td>\n",
       "      <td>635079.7042</td>\n",
       "      <td>0.0680</td>\n",
       "      <td>2.5071</td>\n",
       "      <td>0.0080</td>\n",
       "    </tr>\n",
       "    <tr>\n",
       "      <th>357</th>\n",
       "      <td>635079.7042</td>\n",
       "      <td>157426.7365</td>\n",
       "      <td>3867.6354</td>\n",
       "      <td>3598.7850</td>\n",
       "      <td>473785.3324</td>\n",
       "      <td>0.0680</td>\n",
       "      <td>2.0038</td>\n",
       "      <td>0.0081</td>\n",
       "    </tr>\n",
       "    <tr>\n",
       "      <th>358</th>\n",
       "      <td>473785.3324</td>\n",
       "      <td>157036.8876</td>\n",
       "      <td>2585.7016</td>\n",
       "      <td>2684.7836</td>\n",
       "      <td>314162.7432</td>\n",
       "      <td>0.0680</td>\n",
       "      <td>1.5014</td>\n",
       "      <td>0.0082</td>\n",
       "    </tr>\n",
       "    <tr>\n",
       "      <th>359</th>\n",
       "      <td>314162.7432</td>\n",
       "      <td>156637.5652</td>\n",
       "      <td>1296.5035</td>\n",
       "      <td>1780.2555</td>\n",
       "      <td>156228.6745</td>\n",
       "      <td>0.0680</td>\n",
       "      <td>1.0000</td>\n",
       "      <td>0.0082</td>\n",
       "    </tr>\n",
       "    <tr>\n",
       "      <th>360</th>\n",
       "      <td>156228.6745</td>\n",
       "      <td>156228.6745</td>\n",
       "      <td>0.0000</td>\n",
       "      <td>885.2958</td>\n",
       "      <td>0.0000</td>\n",
       "      <td>0.0000</td>\n",
       "      <td>0.0000</td>\n",
       "      <td>0.0083</td>\n",
       "    </tr>\n",
       "  </tbody>\n",
       "</table>\n",
       "<p>360 rows × 8 columns</p>\n",
       "</div>"
      ]
     },
     "execution_count": 28,
     "metadata": {},
     "output_type": "execute_result"
    }
   ],
   "execution_count": 28
  },
  {
   "metadata": {},
   "cell_type": "markdown",
   "source": [
    "# Loan from Pool3\n",
    "\n",
    "Pool 3: 2,000 loans are 30yr fixed-rate 7.70% WAC, 3 months WALA, SMM 2%. And assume borrowers just curtail (nobody prepays the entire loan, except for the very last payment).\n"
   ],
   "id": "1a74edc95c64b015"
  },
  {
   "metadata": {
    "ExecuteTime": {
     "end_time": "2024-04-15T21:54:27.898105Z",
     "start_time": "2024-04-15T21:54:27.894779Z"
    }
   },
   "cell_type": "code",
   "source": [
    "loan_number3 = 2000\n",
    "loan_size = 100_000\n",
    "WAC3 = 0.077\n",
    "payment_period3 = 30 * 12\n",
    "pool3_ind_monthly_payment = calcualte_monthly_payment(loan_size, WAC3, payment_period3)\n",
    "pool3_monthly_payment = pool3_ind_monthly_payment * loan_number3\n",
    "print(\"Pool3 - Individual loan monthly payment:\", round(pool3_ind_monthly_payment, 4))\n",
    "print(\"Pool3 - Shceduled monthly payment:\", round(pool3_monthly_payment, 4))\n",
    "\n",
    "pool3_ind_interest_payment = WAC3 / 12 * loan_size\n",
    "pool3_interest_payment = pool3_ind_interest_payment * loan_number3\n",
    "print(\"Pool3 - Individual loan monthly interest payment:\", round(pool3_ind_interest_payment, 4))\n",
    "print(\"Pool3 - Scheduled monthly interest payment:\", round(pool3_interest_payment, 4))\n",
    "\n",
    "pool3_ind_principal_payment = pool3_ind_monthly_payment - pool3_ind_interest_payment\n",
    "pool3_principal_payment = pool3_ind_principal_payment * loan_number3\n",
    "print(\"Pool3 - Individual loan monthly principal payment:\", round(pool3_ind_principal_payment, 4))\n",
    "print(\"Pool3 - Scheduled monthly principal payment:\", round(pool3_principal_payment, 4))"
   ],
   "id": "bd1c258b78922d1e",
   "outputs": [
    {
     "name": "stdout",
     "output_type": "stream",
     "text": [
      "Pool3 - Individual loan monthly payment: 712.9602\n",
      "Pool3 - Shceduled monthly payment: 1425920.3477\n",
      "Pool3 - Individual loan monthly interest payment: 641.6667\n",
      "Pool3 - Scheduled monthly interest payment: 1283333.3333\n",
      "Pool3 - Individual loan monthly principal payment: 71.2935\n",
      "Pool3 - Scheduled monthly principal payment: 142587.0143\n"
     ]
    }
   ],
   "execution_count": 30
  },
  {
   "metadata": {},
   "cell_type": "markdown",
   "source": "In pool3, there is a 2% SMM. Loan number will remain same throughout the lifecycle but each loan will curtail 2% of the remaining principal.",
   "id": "16aa9ca186eb6312"
  },
  {
   "metadata": {
    "ExecuteTime": {
     "end_time": "2024-04-15T21:54:31.319464Z",
     "start_time": "2024-04-15T21:54:31.315655Z"
    }
   },
   "cell_type": "code",
   "source": [
    "total_months3 = 30 * 12\n",
    "M0 = loan_size\n",
    "c = WAC3 / 12\n",
    "SMM3 = 0.02\n",
    "# Calculate lifecycle payment schedule\n",
    "pool3_ind_remaining_principals = [M0]\n",
    "pool3_ind_interest_payments = [0]\n",
    "pool3_ind_scheduled_principal_payments = [0]\n",
    "pool3_ind_unscheduled_principal_payments = [0]\n",
    "pool3_actual_months = [0]\n",
    "for i in range(1, total_months3+1):\n",
    "    pool3_actual_months.append(i)\n",
    "    interest_payment = pool3_ind_remaining_principals[i-1] * c\n",
    "    scheduled_principal_payment = pool3_ind_monthly_payment - interest_payment\n",
    "    scheduled_balance = pool3_ind_remaining_principals[i-1] - scheduled_principal_payment\n",
    "    if scheduled_balance <= 0: # this is the last payment\n",
    "        scheduled_balance = pool3_ind_remaining_principals[i-1]\n",
    "        pool3_ind_remaining_principals.append(0)\n",
    "        pool3_ind_interest_payments.append(interest_payment)\n",
    "        pool3_ind_scheduled_principal_payments.append(scheduled_balance)\n",
    "        pool3_ind_unscheduled_principal_payments.append(0)\n",
    "        print(\"Last payment month:\", i,  scheduled_balance)\n",
    "        break\n",
    "    # actual balance = Scheduled balance - Scheduled Balance * SMM\n",
    "    previous_remaining_principal = pool3_ind_remaining_principals[i-1]\n",
    "    remaining_principal = scheduled_balance - scheduled_balance * SMM3\n",
    "    unscheduled_principal_payment = previous_remaining_principal - remaining_principal - scheduled_principal_payment\n",
    "    pool3_ind_remaining_principals.append(remaining_principal)\n",
    "    pool3_ind_interest_payments.append(interest_payment)\n",
    "    pool3_ind_scheduled_principal_payments.append(scheduled_principal_payment)\n",
    "    pool3_ind_unscheduled_principal_payments.append(unscheduled_principal_payment)"
   ],
   "id": "e79b459ba108dc6c",
   "outputs": [
    {
     "name": "stdout",
     "output_type": "stream",
     "text": [
      "Last payment month: 79 466.18101987031116\n"
     ]
    }
   ],
   "execution_count": 31
  },
  {
   "metadata": {},
   "cell_type": "markdown",
   "source": "Now let us aggregate all the loan together for the pool3.",
   "id": "9c7950febe6e3bb5"
  },
  {
   "metadata": {
    "ExecuteTime": {
     "end_time": "2024-04-15T21:54:31.903243Z",
     "start_time": "2024-04-15T21:54:31.900617Z"
    }
   },
   "cell_type": "code",
   "source": [
    "pool3_remaining_principals = [M0 * loan_number3]\n",
    "pool3_interest_payments = [0]\n",
    "pool3_scheduled_principal_payments = [0]\n",
    "pool3_unscheduled_principal_payments = [0]\n",
    "\n",
    "for i in range(1, pool3_actual_months[-1]+1):\n",
    "    pool3_interest_payment = pool3_ind_interest_payments[i] * loan_number3\n",
    "    pool3_scheduled_principal_payment = pool3_ind_scheduled_principal_payments[i] * loan_number3\n",
    "    pool3_remaining_principal = pool3_ind_remaining_principals[i] * loan_number3\n",
    "    pool3_unscheduled_principal_payment = pool3_ind_unscheduled_principal_payments[i] * loan_number3\n",
    "    pool3_interest_payments.append(pool3_interest_payment)\n",
    "    pool3_scheduled_principal_payments.append(pool3_scheduled_principal_payment)\n",
    "    pool3_remaining_principals.append(pool3_remaining_principal)\n",
    "    pool3_unscheduled_principal_payments.append(pool3_unscheduled_principal_payment)    "
   ],
   "id": "a58a2e1810a8584b",
   "outputs": [],
   "execution_count": 32
  },
  {
   "metadata": {
    "ExecuteTime": {
     "end_time": "2024-04-15T21:54:32.061345Z",
     "start_time": "2024-04-15T21:54:32.058991Z"
    }
   },
   "cell_type": "code",
   "source": [
    "remaining_month3 = [month_index for month_index in range(4, pool3_actual_months[-1]+1)]\n",
    "pool3_unpaid_balance = [round(pool3_remaining_principals[month_index],4) for month_index in remaining_month3]\n",
    "pool3_scheduled_principal_payments = [round(pool3_scheduled_principal_payments[month_index],4) for month_index in remaining_month3]\n",
    "pool3_unscheduled_principal_payments = [round(pool3_unscheduled_principal_payments[month_index],4) for month_index in remaining_month3]\n",
    "pool3_interest_expense = [round(pool3_interest_payments[month_index],4) for month_index in remaining_month3]"
   ],
   "id": "848a0a32d7315623",
   "outputs": [],
   "execution_count": 33
  },
  {
   "metadata": {
    "ExecuteTime": {
     "end_time": "2024-04-15T21:54:32.258718Z",
     "start_time": "2024-04-15T21:54:32.256537Z"
    }
   },
   "cell_type": "code",
   "source": "pool3_unpaid_balance[0:5]",
   "id": "6f453e35ae9011ff",
   "outputs": [
    {
     "data": {
      "text/plain": [
       "[183778532.3534, 179861220.4366, 175997621.395, 172186998.7356, 168428626.0638]"
      ]
     },
     "execution_count": 34,
     "metadata": {},
     "output_type": "execute_result"
    }
   ],
   "execution_count": 34
  },
  {
   "metadata": {
    "ExecuteTime": {
     "end_time": "2024-04-15T21:54:32.562369Z",
     "start_time": "2024-04-15T21:54:32.554856Z"
    }
   },
   "cell_type": "code",
   "source": [
    "WACs = []\n",
    "for month_index in remaining_month3:\n",
    "    WAC = calculate_WAC(WAC3, [pool3_remaining_principals[month_index]]*loan_number3)\n",
    "    WACs.append(WAC)"
   ],
   "id": "a22894c56b12e8c0",
   "outputs": [],
   "execution_count": 35
  },
  {
   "metadata": {
    "ExecuteTime": {
     "end_time": "2024-04-15T21:54:32.909225Z",
     "start_time": "2024-04-15T21:54:32.707975Z"
    }
   },
   "cell_type": "code",
   "source": [
    "WALs = []\n",
    "for month_index in remaining_month3:\n",
    "    wal = calculate_WAL([pool3_ind_scheduled_principal_payments]*loan_number3, [pool3_ind_remaining_principals]*loan_number3, month_index)\n",
    "    WALs.append(wal)"
   ],
   "id": "4773b4d5a1d8a7f2",
   "outputs": [],
   "execution_count": 36
  },
  {
   "metadata": {
    "ExecuteTime": {
     "end_time": "2024-04-15T21:54:32.913580Z",
     "start_time": "2024-04-15T21:54:32.910564Z"
    }
   },
   "cell_type": "code",
   "source": [
    "pool3_result = pd.DataFrame({\n",
    "    \"Month\": remaining_month3,\n",
    "    \"Beginning Balance\": np.round([pool3_remaining_principals[month_index-1] for month_index in remaining_month3], 4),\n",
    "    \"Scheduled Principal Payments\": pool3_scheduled_principal_payments,\n",
    "    \"Unscheduled Principal Payments\": pool3_unscheduled_principal_payments,\n",
    "    \"Interest Expense\": pool3_interest_expense,\n",
    "    \"Unpaid Balance\": pool3_unpaid_balance,\n",
    "    \"WAC\": WACs,\n",
    "    \"WAL\": WALs,\n",
    "    \"SMM\": [0.02] * len(remaining_month3),\n",
    "})\n",
    "pool3_result.set_index(\"Month\", inplace=True)"
   ],
   "id": "a724054fe5be295d",
   "outputs": [],
   "execution_count": 37
  },
  {
   "metadata": {
    "ExecuteTime": {
     "end_time": "2024-04-15T21:54:33.039789Z",
     "start_time": "2024-04-15T21:54:33.035880Z"
    }
   },
   "cell_type": "code",
   "source": "pool3_result",
   "id": "8f8e2a53a404b756",
   "outputs": [
    {
     "data": {
      "text/plain": [
       "       Beginning Balance  Scheduled Principal Payments  \\\n",
       "Month                                                    \n",
       "4         187750303.8775                   221189.2311   \n",
       "5         183778532.3534                   246674.7651   \n",
       "6         179861220.4366                   271810.8499   \n",
       "7         175997621.3950                   296602.2771   \n",
       "8         172186998.7356                   321053.7725   \n",
       "...                  ...                           ...   \n",
       "75          6771899.4448                  1382467.3262   \n",
       "76          5281643.4762                  1392029.8020   \n",
       "77          3811821.4007                  1401461.1604   \n",
       "78          2362153.0355                  1410763.1990   \n",
       "79           932362.0397                   932362.0397   \n",
       "\n",
       "       Unscheduled Principal Payments  Interest Expense  Unpaid Balance  \\\n",
       "Month                                                                     \n",
       "4                        3750582.2929      1204731.1165  183778532.3534   \n",
       "5                        3670637.1518      1179245.5826  179861220.4366   \n",
       "6                        3591788.1917      1154109.4978  175997621.3950   \n",
       "7                        3514020.3824      1129318.0706  172186998.7356   \n",
       "8                        3437318.8993      1104866.5752  168428626.0638   \n",
       "...                               ...               ...             ...   \n",
       "75                        107788.6424        43453.0214    5281643.4762   \n",
       "76                         77792.2735        33890.5456    3811821.4007   \n",
       "77                         48207.2048        24459.1873    2362153.0355   \n",
       "78                         19027.7967        15157.1486     932362.0397   \n",
       "79                             0.0000         5982.6564          0.0000   \n",
       "\n",
       "         WAC     WAL    SMM  \n",
       "Month                        \n",
       "4     0.0770 17.2090 0.0200  \n",
       "5     0.0770 17.1987 0.0200  \n",
       "6     0.0770 17.1840 0.0200  \n",
       "7     0.0770 17.1650 0.0200  \n",
       "8     0.0770 17.1416 0.0200  \n",
       "...      ...     ...    ...  \n",
       "75    0.0770  2.3017 0.0200  \n",
       "76    0.0770  1.8417 0.0200  \n",
       "77    0.0770  1.3867 0.0200  \n",
       "78    0.0770  1.0000 0.0200  \n",
       "79    0.0000  0.0000 0.0200  \n",
       "\n",
       "[76 rows x 8 columns]"
      ],
      "text/html": [
       "<div>\n",
       "<style scoped>\n",
       "    .dataframe tbody tr th:only-of-type {\n",
       "        vertical-align: middle;\n",
       "    }\n",
       "\n",
       "    .dataframe tbody tr th {\n",
       "        vertical-align: top;\n",
       "    }\n",
       "\n",
       "    .dataframe thead th {\n",
       "        text-align: right;\n",
       "    }\n",
       "</style>\n",
       "<table border=\"1\" class=\"dataframe\">\n",
       "  <thead>\n",
       "    <tr style=\"text-align: right;\">\n",
       "      <th></th>\n",
       "      <th>Beginning Balance</th>\n",
       "      <th>Scheduled Principal Payments</th>\n",
       "      <th>Unscheduled Principal Payments</th>\n",
       "      <th>Interest Expense</th>\n",
       "      <th>Unpaid Balance</th>\n",
       "      <th>WAC</th>\n",
       "      <th>WAL</th>\n",
       "      <th>SMM</th>\n",
       "    </tr>\n",
       "    <tr>\n",
       "      <th>Month</th>\n",
       "      <th></th>\n",
       "      <th></th>\n",
       "      <th></th>\n",
       "      <th></th>\n",
       "      <th></th>\n",
       "      <th></th>\n",
       "      <th></th>\n",
       "      <th></th>\n",
       "    </tr>\n",
       "  </thead>\n",
       "  <tbody>\n",
       "    <tr>\n",
       "      <th>4</th>\n",
       "      <td>187750303.8775</td>\n",
       "      <td>221189.2311</td>\n",
       "      <td>3750582.2929</td>\n",
       "      <td>1204731.1165</td>\n",
       "      <td>183778532.3534</td>\n",
       "      <td>0.0770</td>\n",
       "      <td>17.2090</td>\n",
       "      <td>0.0200</td>\n",
       "    </tr>\n",
       "    <tr>\n",
       "      <th>5</th>\n",
       "      <td>183778532.3534</td>\n",
       "      <td>246674.7651</td>\n",
       "      <td>3670637.1518</td>\n",
       "      <td>1179245.5826</td>\n",
       "      <td>179861220.4366</td>\n",
       "      <td>0.0770</td>\n",
       "      <td>17.1987</td>\n",
       "      <td>0.0200</td>\n",
       "    </tr>\n",
       "    <tr>\n",
       "      <th>6</th>\n",
       "      <td>179861220.4366</td>\n",
       "      <td>271810.8499</td>\n",
       "      <td>3591788.1917</td>\n",
       "      <td>1154109.4978</td>\n",
       "      <td>175997621.3950</td>\n",
       "      <td>0.0770</td>\n",
       "      <td>17.1840</td>\n",
       "      <td>0.0200</td>\n",
       "    </tr>\n",
       "    <tr>\n",
       "      <th>7</th>\n",
       "      <td>175997621.3950</td>\n",
       "      <td>296602.2771</td>\n",
       "      <td>3514020.3824</td>\n",
       "      <td>1129318.0706</td>\n",
       "      <td>172186998.7356</td>\n",
       "      <td>0.0770</td>\n",
       "      <td>17.1650</td>\n",
       "      <td>0.0200</td>\n",
       "    </tr>\n",
       "    <tr>\n",
       "      <th>8</th>\n",
       "      <td>172186998.7356</td>\n",
       "      <td>321053.7725</td>\n",
       "      <td>3437318.8993</td>\n",
       "      <td>1104866.5752</td>\n",
       "      <td>168428626.0638</td>\n",
       "      <td>0.0770</td>\n",
       "      <td>17.1416</td>\n",
       "      <td>0.0200</td>\n",
       "    </tr>\n",
       "    <tr>\n",
       "      <th>...</th>\n",
       "      <td>...</td>\n",
       "      <td>...</td>\n",
       "      <td>...</td>\n",
       "      <td>...</td>\n",
       "      <td>...</td>\n",
       "      <td>...</td>\n",
       "      <td>...</td>\n",
       "      <td>...</td>\n",
       "    </tr>\n",
       "    <tr>\n",
       "      <th>75</th>\n",
       "      <td>6771899.4448</td>\n",
       "      <td>1382467.3262</td>\n",
       "      <td>107788.6424</td>\n",
       "      <td>43453.0214</td>\n",
       "      <td>5281643.4762</td>\n",
       "      <td>0.0770</td>\n",
       "      <td>2.3017</td>\n",
       "      <td>0.0200</td>\n",
       "    </tr>\n",
       "    <tr>\n",
       "      <th>76</th>\n",
       "      <td>5281643.4762</td>\n",
       "      <td>1392029.8020</td>\n",
       "      <td>77792.2735</td>\n",
       "      <td>33890.5456</td>\n",
       "      <td>3811821.4007</td>\n",
       "      <td>0.0770</td>\n",
       "      <td>1.8417</td>\n",
       "      <td>0.0200</td>\n",
       "    </tr>\n",
       "    <tr>\n",
       "      <th>77</th>\n",
       "      <td>3811821.4007</td>\n",
       "      <td>1401461.1604</td>\n",
       "      <td>48207.2048</td>\n",
       "      <td>24459.1873</td>\n",
       "      <td>2362153.0355</td>\n",
       "      <td>0.0770</td>\n",
       "      <td>1.3867</td>\n",
       "      <td>0.0200</td>\n",
       "    </tr>\n",
       "    <tr>\n",
       "      <th>78</th>\n",
       "      <td>2362153.0355</td>\n",
       "      <td>1410763.1990</td>\n",
       "      <td>19027.7967</td>\n",
       "      <td>15157.1486</td>\n",
       "      <td>932362.0397</td>\n",
       "      <td>0.0770</td>\n",
       "      <td>1.0000</td>\n",
       "      <td>0.0200</td>\n",
       "    </tr>\n",
       "    <tr>\n",
       "      <th>79</th>\n",
       "      <td>932362.0397</td>\n",
       "      <td>932362.0397</td>\n",
       "      <td>0.0000</td>\n",
       "      <td>5982.6564</td>\n",
       "      <td>0.0000</td>\n",
       "      <td>0.0000</td>\n",
       "      <td>0.0000</td>\n",
       "      <td>0.0200</td>\n",
       "    </tr>\n",
       "  </tbody>\n",
       "</table>\n",
       "<p>76 rows × 8 columns</p>\n",
       "</div>"
      ]
     },
     "execution_count": 38,
     "metadata": {},
     "output_type": "execute_result"
    }
   ],
   "execution_count": 38
  },
  {
   "metadata": {},
   "cell_type": "markdown",
   "source": [
    "# Pass-Through\n",
    "\n",
    "Now we aggregate all the loans from pool1, pool2, and pool3 to create a pass-through.\n",
    "\n",
    "The servicing fee + g-free is 0.0075."
   ],
   "id": "7cb421165e236661"
  },
  {
   "metadata": {
    "ExecuteTime": {
     "end_time": "2024-04-08T15:41:11.637965Z",
     "start_time": "2024-04-08T15:41:11.634008Z"
    }
   },
   "cell_type": "code",
   "source": [
    "p1 = pool1_result.copy()[[\"Beginning Balance\", \"Scheduled Principal Payments\", \"Unscheduled Principal Payments\", \"Interest Expense\", \"Unpaid Balance\"]]\n",
    "p1.reset_index(inplace=True, drop=True)\n",
    "p2 = pool2_result.copy()[[\"Beginning Balance\", \"Scheduled Principal Payments\", \"Unscheduled Principal Payments\", \"Interest Expense\", \"Unpaid Balance\"]]\n",
    "p2.reset_index(inplace=True, drop=True)\n",
    "p3 = pool3_result.copy()[[\"Beginning Balance\", \"Scheduled Principal Payments\", \"Unscheduled Principal Payments\", \"Interest Expense\", \"Unpaid Balance\"]]\n",
    "p3.reset_index(inplace=True, drop=True)"
   ],
   "id": "d1ec251c20bedfdd",
   "outputs": [],
   "execution_count": 46
  },
  {
   "metadata": {
    "ExecuteTime": {
     "end_time": "2024-04-08T15:41:11.647576Z",
     "start_time": "2024-04-08T15:41:11.638724Z"
    }
   },
   "cell_type": "code",
   "source": "p1",
   "id": "5a66c4678f50a85b",
   "outputs": [
    {
     "data": {
      "text/plain": [
       "     Beginning Balance  Scheduled Principal Payments  \\\n",
       "0        99667713.9282                   334058.2642   \n",
       "1        99333655.6640                   335839.9083   \n",
       "2        98997815.7557                   337631.0545   \n",
       "3        98660184.7012                   339431.7534   \n",
       "4        98320752.9478                   341242.0561   \n",
       "..                 ...                           ...   \n",
       "174       4259700.1408                   842901.0044   \n",
       "175       3416799.1364                   847396.4764   \n",
       "176       2569402.6600                   851915.9243   \n",
       "177       1717486.7357                   856459.4759   \n",
       "178        861027.2598                   861027.2598   \n",
       "\n",
       "     Unscheduled Principal Payments  Interest Expense  Unpaid Balance  \n",
       "0                                 0       531561.1410   99333655.6640  \n",
       "1                                 0       529779.4969   98997815.7557  \n",
       "2                                 0       527988.3507   98660184.7012  \n",
       "3                                 0       526187.6517   98320752.9478  \n",
       "4                                 0       524377.3491   97979510.8917  \n",
       "..                              ...               ...             ...  \n",
       "174                               0        22718.4008    3416799.1364  \n",
       "175                               0        18222.9287    2569402.6600  \n",
       "176                               0        13703.4809    1717486.7357  \n",
       "177                               0         9159.9293     861027.2598  \n",
       "178                               0         4592.1454          0.0000  \n",
       "\n",
       "[179 rows x 5 columns]"
      ],
      "text/html": [
       "<div>\n",
       "<style scoped>\n",
       "    .dataframe tbody tr th:only-of-type {\n",
       "        vertical-align: middle;\n",
       "    }\n",
       "\n",
       "    .dataframe tbody tr th {\n",
       "        vertical-align: top;\n",
       "    }\n",
       "\n",
       "    .dataframe thead th {\n",
       "        text-align: right;\n",
       "    }\n",
       "</style>\n",
       "<table border=\"1\" class=\"dataframe\">\n",
       "  <thead>\n",
       "    <tr style=\"text-align: right;\">\n",
       "      <th></th>\n",
       "      <th>Beginning Balance</th>\n",
       "      <th>Scheduled Principal Payments</th>\n",
       "      <th>Unscheduled Principal Payments</th>\n",
       "      <th>Interest Expense</th>\n",
       "      <th>Unpaid Balance</th>\n",
       "    </tr>\n",
       "  </thead>\n",
       "  <tbody>\n",
       "    <tr>\n",
       "      <th>0</th>\n",
       "      <td>99667713.9282</td>\n",
       "      <td>334058.2642</td>\n",
       "      <td>0</td>\n",
       "      <td>531561.1410</td>\n",
       "      <td>99333655.6640</td>\n",
       "    </tr>\n",
       "    <tr>\n",
       "      <th>1</th>\n",
       "      <td>99333655.6640</td>\n",
       "      <td>335839.9083</td>\n",
       "      <td>0</td>\n",
       "      <td>529779.4969</td>\n",
       "      <td>98997815.7557</td>\n",
       "    </tr>\n",
       "    <tr>\n",
       "      <th>2</th>\n",
       "      <td>98997815.7557</td>\n",
       "      <td>337631.0545</td>\n",
       "      <td>0</td>\n",
       "      <td>527988.3507</td>\n",
       "      <td>98660184.7012</td>\n",
       "    </tr>\n",
       "    <tr>\n",
       "      <th>3</th>\n",
       "      <td>98660184.7012</td>\n",
       "      <td>339431.7534</td>\n",
       "      <td>0</td>\n",
       "      <td>526187.6517</td>\n",
       "      <td>98320752.9478</td>\n",
       "    </tr>\n",
       "    <tr>\n",
       "      <th>4</th>\n",
       "      <td>98320752.9478</td>\n",
       "      <td>341242.0561</td>\n",
       "      <td>0</td>\n",
       "      <td>524377.3491</td>\n",
       "      <td>97979510.8917</td>\n",
       "    </tr>\n",
       "    <tr>\n",
       "      <th>...</th>\n",
       "      <td>...</td>\n",
       "      <td>...</td>\n",
       "      <td>...</td>\n",
       "      <td>...</td>\n",
       "      <td>...</td>\n",
       "    </tr>\n",
       "    <tr>\n",
       "      <th>174</th>\n",
       "      <td>4259700.1408</td>\n",
       "      <td>842901.0044</td>\n",
       "      <td>0</td>\n",
       "      <td>22718.4008</td>\n",
       "      <td>3416799.1364</td>\n",
       "    </tr>\n",
       "    <tr>\n",
       "      <th>175</th>\n",
       "      <td>3416799.1364</td>\n",
       "      <td>847396.4764</td>\n",
       "      <td>0</td>\n",
       "      <td>18222.9287</td>\n",
       "      <td>2569402.6600</td>\n",
       "    </tr>\n",
       "    <tr>\n",
       "      <th>176</th>\n",
       "      <td>2569402.6600</td>\n",
       "      <td>851915.9243</td>\n",
       "      <td>0</td>\n",
       "      <td>13703.4809</td>\n",
       "      <td>1717486.7357</td>\n",
       "    </tr>\n",
       "    <tr>\n",
       "      <th>177</th>\n",
       "      <td>1717486.7357</td>\n",
       "      <td>856459.4759</td>\n",
       "      <td>0</td>\n",
       "      <td>9159.9293</td>\n",
       "      <td>861027.2598</td>\n",
       "    </tr>\n",
       "    <tr>\n",
       "      <th>178</th>\n",
       "      <td>861027.2598</td>\n",
       "      <td>861027.2598</td>\n",
       "      <td>0</td>\n",
       "      <td>4592.1454</td>\n",
       "      <td>0.0000</td>\n",
       "    </tr>\n",
       "  </tbody>\n",
       "</table>\n",
       "<p>179 rows × 5 columns</p>\n",
       "</div>"
      ]
     },
     "execution_count": 47,
     "metadata": {},
     "output_type": "execute_result"
    }
   ],
   "execution_count": 47
  },
  {
   "metadata": {
    "ExecuteTime": {
     "end_time": "2024-04-08T15:41:11.654136Z",
     "start_time": "2024-04-08T15:41:11.648594Z"
    }
   },
   "cell_type": "code",
   "source": "p2",
   "id": "6c9c176c30265d84",
   "outputs": [
    {
     "data": {
      "text/plain": [
       "     Beginning Balance  Scheduled Principal Payments  \\\n",
       "0       700000000.0000                   596809.6505   \n",
       "1       692409158.4460                   594189.6561   \n",
       "2       684926767.8019                   591607.0318   \n",
       "3       677552652.2536                   589062.7738   \n",
       "4       670286633.7172                   586557.8912   \n",
       "..                 ...                           ...   \n",
       "355        798029.2561                   157807.2061   \n",
       "356        635079.7042                   157426.7365   \n",
       "357        473785.3324                   157036.8876   \n",
       "358        314162.7432                   156637.5652   \n",
       "359        156228.6745                   156228.6745   \n",
       "\n",
       "     Unscheduled Principal Payments  Interest Expense  Unpaid Balance  \n",
       "0                      6994031.9035      3966666.6667  692409158.4460  \n",
       "1                      6888200.9880      3923651.8979  684926767.8019  \n",
       "2                      6782508.5166      3881251.6842  677552652.2536  \n",
       "3                      6676955.7626      3839465.0294  670286633.7172  \n",
       "4                      6671112.8576      3798290.9244  663028962.9684  \n",
       "..                              ...               ...             ...  \n",
       "355                       5142.3458         4522.1658     635079.7042  \n",
       "356                       3867.6354         3598.7850     473785.3324  \n",
       "357                       2585.7016         2684.7836     314162.7432  \n",
       "358                       1296.5035         1780.2555     156228.6745  \n",
       "359                          0.0000          885.2958          0.0000  \n",
       "\n",
       "[360 rows x 5 columns]"
      ],
      "text/html": [
       "<div>\n",
       "<style scoped>\n",
       "    .dataframe tbody tr th:only-of-type {\n",
       "        vertical-align: middle;\n",
       "    }\n",
       "\n",
       "    .dataframe tbody tr th {\n",
       "        vertical-align: top;\n",
       "    }\n",
       "\n",
       "    .dataframe thead th {\n",
       "        text-align: right;\n",
       "    }\n",
       "</style>\n",
       "<table border=\"1\" class=\"dataframe\">\n",
       "  <thead>\n",
       "    <tr style=\"text-align: right;\">\n",
       "      <th></th>\n",
       "      <th>Beginning Balance</th>\n",
       "      <th>Scheduled Principal Payments</th>\n",
       "      <th>Unscheduled Principal Payments</th>\n",
       "      <th>Interest Expense</th>\n",
       "      <th>Unpaid Balance</th>\n",
       "    </tr>\n",
       "  </thead>\n",
       "  <tbody>\n",
       "    <tr>\n",
       "      <th>0</th>\n",
       "      <td>700000000.0000</td>\n",
       "      <td>596809.6505</td>\n",
       "      <td>6994031.9035</td>\n",
       "      <td>3966666.6667</td>\n",
       "      <td>692409158.4460</td>\n",
       "    </tr>\n",
       "    <tr>\n",
       "      <th>1</th>\n",
       "      <td>692409158.4460</td>\n",
       "      <td>594189.6561</td>\n",
       "      <td>6888200.9880</td>\n",
       "      <td>3923651.8979</td>\n",
       "      <td>684926767.8019</td>\n",
       "    </tr>\n",
       "    <tr>\n",
       "      <th>2</th>\n",
       "      <td>684926767.8019</td>\n",
       "      <td>591607.0318</td>\n",
       "      <td>6782508.5166</td>\n",
       "      <td>3881251.6842</td>\n",
       "      <td>677552652.2536</td>\n",
       "    </tr>\n",
       "    <tr>\n",
       "      <th>3</th>\n",
       "      <td>677552652.2536</td>\n",
       "      <td>589062.7738</td>\n",
       "      <td>6676955.7626</td>\n",
       "      <td>3839465.0294</td>\n",
       "      <td>670286633.7172</td>\n",
       "    </tr>\n",
       "    <tr>\n",
       "      <th>4</th>\n",
       "      <td>670286633.7172</td>\n",
       "      <td>586557.8912</td>\n",
       "      <td>6671112.8576</td>\n",
       "      <td>3798290.9244</td>\n",
       "      <td>663028962.9684</td>\n",
       "    </tr>\n",
       "    <tr>\n",
       "      <th>...</th>\n",
       "      <td>...</td>\n",
       "      <td>...</td>\n",
       "      <td>...</td>\n",
       "      <td>...</td>\n",
       "      <td>...</td>\n",
       "    </tr>\n",
       "    <tr>\n",
       "      <th>355</th>\n",
       "      <td>798029.2561</td>\n",
       "      <td>157807.2061</td>\n",
       "      <td>5142.3458</td>\n",
       "      <td>4522.1658</td>\n",
       "      <td>635079.7042</td>\n",
       "    </tr>\n",
       "    <tr>\n",
       "      <th>356</th>\n",
       "      <td>635079.7042</td>\n",
       "      <td>157426.7365</td>\n",
       "      <td>3867.6354</td>\n",
       "      <td>3598.7850</td>\n",
       "      <td>473785.3324</td>\n",
       "    </tr>\n",
       "    <tr>\n",
       "      <th>357</th>\n",
       "      <td>473785.3324</td>\n",
       "      <td>157036.8876</td>\n",
       "      <td>2585.7016</td>\n",
       "      <td>2684.7836</td>\n",
       "      <td>314162.7432</td>\n",
       "    </tr>\n",
       "    <tr>\n",
       "      <th>358</th>\n",
       "      <td>314162.7432</td>\n",
       "      <td>156637.5652</td>\n",
       "      <td>1296.5035</td>\n",
       "      <td>1780.2555</td>\n",
       "      <td>156228.6745</td>\n",
       "    </tr>\n",
       "    <tr>\n",
       "      <th>359</th>\n",
       "      <td>156228.6745</td>\n",
       "      <td>156228.6745</td>\n",
       "      <td>0.0000</td>\n",
       "      <td>885.2958</td>\n",
       "      <td>0.0000</td>\n",
       "    </tr>\n",
       "  </tbody>\n",
       "</table>\n",
       "<p>360 rows × 5 columns</p>\n",
       "</div>"
      ]
     },
     "execution_count": 48,
     "metadata": {},
     "output_type": "execute_result"
    }
   ],
   "execution_count": 48
  },
  {
   "metadata": {
    "ExecuteTime": {
     "end_time": "2024-04-08T15:41:11.662706Z",
     "start_time": "2024-04-08T15:41:11.657521Z"
    }
   },
   "cell_type": "code",
   "source": [
    "pass_through_result = p1.add(p2, fill_value=0).add(p3, fill_value=0)\n",
    "pass_through_result"
   ],
   "id": "55f8e79bbdcf5d8b",
   "outputs": [
    {
     "data": {
      "text/plain": [
       "     Beginning Balance  Scheduled Principal Payments  \\\n",
       "0       987418017.8057                  1152057.1458   \n",
       "1       975521346.4634                  1176704.3295   \n",
       "2       963785803.9942                  1201048.9362   \n",
       "3       952210458.3498                  1225096.8043   \n",
       "4       940794385.4006                  1248853.7198   \n",
       "..                 ...                           ...   \n",
       "355        798029.2561                   157807.2061   \n",
       "356        635079.7042                   157426.7365   \n",
       "357        473785.3324                   157036.8876   \n",
       "358        314162.7432                   156637.5652   \n",
       "359        156228.6745                   156228.6745   \n",
       "\n",
       "     Unscheduled Principal Payments  Interest Expense  Unpaid Balance  \n",
       "0                     10744614.1964      5702958.9242  975521346.4634  \n",
       "1                     10558838.1398      5632676.9774  963785803.9942  \n",
       "2                     10374296.7083      5563349.5327  952210458.3498  \n",
       "3                     10190976.1450      5494970.7517  940794385.4006  \n",
       "4                     10108431.7569      5427534.8487  929437099.9239  \n",
       "..                              ...               ...             ...  \n",
       "355                       5142.3458         4522.1658     635079.7042  \n",
       "356                       3867.6354         3598.7850     473785.3324  \n",
       "357                       2585.7016         2684.7836     314162.7432  \n",
       "358                       1296.5035         1780.2555     156228.6745  \n",
       "359                          0.0000          885.2958          0.0000  \n",
       "\n",
       "[360 rows x 5 columns]"
      ],
      "text/html": [
       "<div>\n",
       "<style scoped>\n",
       "    .dataframe tbody tr th:only-of-type {\n",
       "        vertical-align: middle;\n",
       "    }\n",
       "\n",
       "    .dataframe tbody tr th {\n",
       "        vertical-align: top;\n",
       "    }\n",
       "\n",
       "    .dataframe thead th {\n",
       "        text-align: right;\n",
       "    }\n",
       "</style>\n",
       "<table border=\"1\" class=\"dataframe\">\n",
       "  <thead>\n",
       "    <tr style=\"text-align: right;\">\n",
       "      <th></th>\n",
       "      <th>Beginning Balance</th>\n",
       "      <th>Scheduled Principal Payments</th>\n",
       "      <th>Unscheduled Principal Payments</th>\n",
       "      <th>Interest Expense</th>\n",
       "      <th>Unpaid Balance</th>\n",
       "    </tr>\n",
       "  </thead>\n",
       "  <tbody>\n",
       "    <tr>\n",
       "      <th>0</th>\n",
       "      <td>987418017.8057</td>\n",
       "      <td>1152057.1458</td>\n",
       "      <td>10744614.1964</td>\n",
       "      <td>5702958.9242</td>\n",
       "      <td>975521346.4634</td>\n",
       "    </tr>\n",
       "    <tr>\n",
       "      <th>1</th>\n",
       "      <td>975521346.4634</td>\n",
       "      <td>1176704.3295</td>\n",
       "      <td>10558838.1398</td>\n",
       "      <td>5632676.9774</td>\n",
       "      <td>963785803.9942</td>\n",
       "    </tr>\n",
       "    <tr>\n",
       "      <th>2</th>\n",
       "      <td>963785803.9942</td>\n",
       "      <td>1201048.9362</td>\n",
       "      <td>10374296.7083</td>\n",
       "      <td>5563349.5327</td>\n",
       "      <td>952210458.3498</td>\n",
       "    </tr>\n",
       "    <tr>\n",
       "      <th>3</th>\n",
       "      <td>952210458.3498</td>\n",
       "      <td>1225096.8043</td>\n",
       "      <td>10190976.1450</td>\n",
       "      <td>5494970.7517</td>\n",
       "      <td>940794385.4006</td>\n",
       "    </tr>\n",
       "    <tr>\n",
       "      <th>4</th>\n",
       "      <td>940794385.4006</td>\n",
       "      <td>1248853.7198</td>\n",
       "      <td>10108431.7569</td>\n",
       "      <td>5427534.8487</td>\n",
       "      <td>929437099.9239</td>\n",
       "    </tr>\n",
       "    <tr>\n",
       "      <th>...</th>\n",
       "      <td>...</td>\n",
       "      <td>...</td>\n",
       "      <td>...</td>\n",
       "      <td>...</td>\n",
       "      <td>...</td>\n",
       "    </tr>\n",
       "    <tr>\n",
       "      <th>355</th>\n",
       "      <td>798029.2561</td>\n",
       "      <td>157807.2061</td>\n",
       "      <td>5142.3458</td>\n",
       "      <td>4522.1658</td>\n",
       "      <td>635079.7042</td>\n",
       "    </tr>\n",
       "    <tr>\n",
       "      <th>356</th>\n",
       "      <td>635079.7042</td>\n",
       "      <td>157426.7365</td>\n",
       "      <td>3867.6354</td>\n",
       "      <td>3598.7850</td>\n",
       "      <td>473785.3324</td>\n",
       "    </tr>\n",
       "    <tr>\n",
       "      <th>357</th>\n",
       "      <td>473785.3324</td>\n",
       "      <td>157036.8876</td>\n",
       "      <td>2585.7016</td>\n",
       "      <td>2684.7836</td>\n",
       "      <td>314162.7432</td>\n",
       "    </tr>\n",
       "    <tr>\n",
       "      <th>358</th>\n",
       "      <td>314162.7432</td>\n",
       "      <td>156637.5652</td>\n",
       "      <td>1296.5035</td>\n",
       "      <td>1780.2555</td>\n",
       "      <td>156228.6745</td>\n",
       "    </tr>\n",
       "    <tr>\n",
       "      <th>359</th>\n",
       "      <td>156228.6745</td>\n",
       "      <td>156228.6745</td>\n",
       "      <td>0.0000</td>\n",
       "      <td>885.2958</td>\n",
       "      <td>0.0000</td>\n",
       "    </tr>\n",
       "  </tbody>\n",
       "</table>\n",
       "<p>360 rows × 5 columns</p>\n",
       "</div>"
      ]
     },
     "execution_count": 49,
     "metadata": {},
     "output_type": "execute_result"
    }
   ],
   "execution_count": 49
  },
  {
   "metadata": {
    "ExecuteTime": {
     "end_time": "2024-04-08T15:41:11.667359Z",
     "start_time": "2024-04-08T15:41:11.663354Z"
    }
   },
   "cell_type": "code",
   "source": "pass_through_result",
   "id": "13cd9c8e5b6bd4a6",
   "outputs": [
    {
     "data": {
      "text/plain": [
       "     Beginning Balance  Scheduled Principal Payments  \\\n",
       "0       987418017.8057                  1152057.1458   \n",
       "1       975521346.4634                  1176704.3295   \n",
       "2       963785803.9942                  1201048.9362   \n",
       "3       952210458.3498                  1225096.8043   \n",
       "4       940794385.4006                  1248853.7198   \n",
       "..                 ...                           ...   \n",
       "355        798029.2561                   157807.2061   \n",
       "356        635079.7042                   157426.7365   \n",
       "357        473785.3324                   157036.8876   \n",
       "358        314162.7432                   156637.5652   \n",
       "359        156228.6745                   156228.6745   \n",
       "\n",
       "     Unscheduled Principal Payments  Interest Expense  Unpaid Balance  \n",
       "0                     10744614.1964      5702958.9242  975521346.4634  \n",
       "1                     10558838.1398      5632676.9774  963785803.9942  \n",
       "2                     10374296.7083      5563349.5327  952210458.3498  \n",
       "3                     10190976.1450      5494970.7517  940794385.4006  \n",
       "4                     10108431.7569      5427534.8487  929437099.9239  \n",
       "..                              ...               ...             ...  \n",
       "355                       5142.3458         4522.1658     635079.7042  \n",
       "356                       3867.6354         3598.7850     473785.3324  \n",
       "357                       2585.7016         2684.7836     314162.7432  \n",
       "358                       1296.5035         1780.2555     156228.6745  \n",
       "359                          0.0000          885.2958          0.0000  \n",
       "\n",
       "[360 rows x 5 columns]"
      ],
      "text/html": [
       "<div>\n",
       "<style scoped>\n",
       "    .dataframe tbody tr th:only-of-type {\n",
       "        vertical-align: middle;\n",
       "    }\n",
       "\n",
       "    .dataframe tbody tr th {\n",
       "        vertical-align: top;\n",
       "    }\n",
       "\n",
       "    .dataframe thead th {\n",
       "        text-align: right;\n",
       "    }\n",
       "</style>\n",
       "<table border=\"1\" class=\"dataframe\">\n",
       "  <thead>\n",
       "    <tr style=\"text-align: right;\">\n",
       "      <th></th>\n",
       "      <th>Beginning Balance</th>\n",
       "      <th>Scheduled Principal Payments</th>\n",
       "      <th>Unscheduled Principal Payments</th>\n",
       "      <th>Interest Expense</th>\n",
       "      <th>Unpaid Balance</th>\n",
       "    </tr>\n",
       "  </thead>\n",
       "  <tbody>\n",
       "    <tr>\n",
       "      <th>0</th>\n",
       "      <td>987418017.8057</td>\n",
       "      <td>1152057.1458</td>\n",
       "      <td>10744614.1964</td>\n",
       "      <td>5702958.9242</td>\n",
       "      <td>975521346.4634</td>\n",
       "    </tr>\n",
       "    <tr>\n",
       "      <th>1</th>\n",
       "      <td>975521346.4634</td>\n",
       "      <td>1176704.3295</td>\n",
       "      <td>10558838.1398</td>\n",
       "      <td>5632676.9774</td>\n",
       "      <td>963785803.9942</td>\n",
       "    </tr>\n",
       "    <tr>\n",
       "      <th>2</th>\n",
       "      <td>963785803.9942</td>\n",
       "      <td>1201048.9362</td>\n",
       "      <td>10374296.7083</td>\n",
       "      <td>5563349.5327</td>\n",
       "      <td>952210458.3498</td>\n",
       "    </tr>\n",
       "    <tr>\n",
       "      <th>3</th>\n",
       "      <td>952210458.3498</td>\n",
       "      <td>1225096.8043</td>\n",
       "      <td>10190976.1450</td>\n",
       "      <td>5494970.7517</td>\n",
       "      <td>940794385.4006</td>\n",
       "    </tr>\n",
       "    <tr>\n",
       "      <th>4</th>\n",
       "      <td>940794385.4006</td>\n",
       "      <td>1248853.7198</td>\n",
       "      <td>10108431.7569</td>\n",
       "      <td>5427534.8487</td>\n",
       "      <td>929437099.9239</td>\n",
       "    </tr>\n",
       "    <tr>\n",
       "      <th>...</th>\n",
       "      <td>...</td>\n",
       "      <td>...</td>\n",
       "      <td>...</td>\n",
       "      <td>...</td>\n",
       "      <td>...</td>\n",
       "    </tr>\n",
       "    <tr>\n",
       "      <th>355</th>\n",
       "      <td>798029.2561</td>\n",
       "      <td>157807.2061</td>\n",
       "      <td>5142.3458</td>\n",
       "      <td>4522.1658</td>\n",
       "      <td>635079.7042</td>\n",
       "    </tr>\n",
       "    <tr>\n",
       "      <th>356</th>\n",
       "      <td>635079.7042</td>\n",
       "      <td>157426.7365</td>\n",
       "      <td>3867.6354</td>\n",
       "      <td>3598.7850</td>\n",
       "      <td>473785.3324</td>\n",
       "    </tr>\n",
       "    <tr>\n",
       "      <th>357</th>\n",
       "      <td>473785.3324</td>\n",
       "      <td>157036.8876</td>\n",
       "      <td>2585.7016</td>\n",
       "      <td>2684.7836</td>\n",
       "      <td>314162.7432</td>\n",
       "    </tr>\n",
       "    <tr>\n",
       "      <th>358</th>\n",
       "      <td>314162.7432</td>\n",
       "      <td>156637.5652</td>\n",
       "      <td>1296.5035</td>\n",
       "      <td>1780.2555</td>\n",
       "      <td>156228.6745</td>\n",
       "    </tr>\n",
       "    <tr>\n",
       "      <th>359</th>\n",
       "      <td>156228.6745</td>\n",
       "      <td>156228.6745</td>\n",
       "      <td>0.0000</td>\n",
       "      <td>885.2958</td>\n",
       "      <td>0.0000</td>\n",
       "    </tr>\n",
       "  </tbody>\n",
       "</table>\n",
       "<p>360 rows × 5 columns</p>\n",
       "</div>"
      ]
     },
     "execution_count": 50,
     "metadata": {},
     "output_type": "execute_result"
    }
   ],
   "execution_count": 50
  },
  {
   "metadata": {},
   "cell_type": "markdown",
   "source": "Let us calculate the same metric for the pass-through.",
   "id": "df36cca7a79f266e"
  },
  {
   "metadata": {},
   "cell_type": "markdown",
   "source": "## WAC",
   "id": "436e45539cf946f6"
  },
  {
   "metadata": {
    "ExecuteTime": {
     "end_time": "2024-04-08T15:41:11.670038Z",
     "start_time": "2024-04-08T15:41:11.667923Z"
    }
   },
   "cell_type": "code",
   "source": [
    "from typing import List\n",
    "def calculate_WAC_mutliple(coupon_rates: List[float], balances_list: List[List[float]]):\n",
    "    numerator = 0\n",
    "    denominator = 0\n",
    "    \n",
    "    for c, balances in zip(coupon_rates, balances_list):\n",
    "        c = c / 12\n",
    "        denominator += sum(balances)\n",
    "        for i, balance in enumerate(balances):\n",
    "            numerator += balance * c\n",
    "    \n",
    "    return round(numerator / denominator * 12, 5)"
   ],
   "id": "c1fcf5cec4212b3c",
   "outputs": [],
   "execution_count": 51
  },
  {
   "metadata": {
    "ExecuteTime": {
     "end_time": "2024-04-08T15:41:11.740149Z",
     "start_time": "2024-04-08T15:41:11.670656Z"
    }
   },
   "cell_type": "code",
   "source": [
    "pass_through_WACs = []\n",
    "for i in range(len(pass_through_result)):\n",
    "    try:\n",
    "        pool1_month_index = remaining_month[i]\n",
    "        pool1_balances = [pool_remaining_principals[pool1_month_index]] * loan_number\n",
    "    except:\n",
    "        pool1_balances = [0] * loan_number\n",
    "    \n",
    "    try:\n",
    "        pool2_month_index = pool2_remaining_month[i]\n",
    "        pool2_balances = [pool2_remaining_principals[pool2_month_index]]*pool2_loan_numbers[pool2_month_index]\n",
    "    except:\n",
    "        pool2_balances = [0]* pool2_loan_numbers[pool2_month_index]\n",
    "    \n",
    "    try:\n",
    "        pool3_month_index = remaining_month3[i]\n",
    "        pool3_balances = [pool3_remaining_principals[pool3_month_index]]*loan_number3\n",
    "    except:\n",
    "        pool3_balances = [0]*loan_number3\n",
    "    \n",
    "    WAC = calculate_WAC_mutliple([WAC1, WAC2, WAC3], [pool1_balances, pool2_balances, pool3_balances])\n",
    "    pass_through_WACs.append(WAC)"
   ],
   "id": "899398ba1cd5ab2",
   "outputs": [],
   "execution_count": 52
  },
  {
   "metadata": {},
   "cell_type": "markdown",
   "source": "## WAL",
   "id": "c5f680de8d9ecc65"
  },
  {
   "metadata": {
    "ExecuteTime": {
     "end_time": "2024-04-08T15:41:11.743652Z",
     "start_time": "2024-04-08T15:41:11.740802Z"
    }
   },
   "cell_type": "code",
   "source": [
    "def calculate_WAL_multiple(list_of_all_principal_payments_list, list_of_all_balances_list, ks):\n",
    "    numerator = 0\n",
    "    denominator = 0\n",
    "    for all_principal_payments_list, all_balances_list, k in zip(list_of_all_principal_payments_list, list_of_all_balances_list, ks):\n",
    "        for l in range(len(all_principal_payments_list)):\n",
    "            all_principal_payments = all_principal_payments_list[l]\n",
    "            all_balances = all_balances_list[l]\n",
    "            if k >= len(all_principal_payments):\n",
    "                continue\n",
    "            for time in range(k+1, len(all_principal_payments)):\n",
    "                numerator += (time - k) * all_principal_payments[time]\n",
    "            denominator += all_balances[k]\n",
    "    if denominator == 0:\n",
    "        return 0\n",
    "    return round(numerator / denominator, 4)"
   ],
   "id": "cb2e8e1d1c379977",
   "outputs": [],
   "execution_count": 53
  },
  {
   "metadata": {
    "ExecuteTime": {
     "end_time": "2024-04-08T15:41:18.699802Z",
     "start_time": "2024-04-08T15:41:11.744257Z"
    }
   },
   "cell_type": "code",
   "source": [
    "pass_through_WALs = []\n",
    "for i in range(len(pass_through_result)):\n",
    "    list_of_all_principal_payments_list = []\n",
    "    list_of_all_balances_list = []\n",
    "    ks = []\n",
    "    try:\n",
    "        pool1_k = remaining_month[i]\n",
    "        pool1_all_principal_payments_list = [ind_principal_payments]*loan_number\n",
    "        pool1_all_balances_list = [ind_remaining_principals]*loan_number\n",
    "        \n",
    "        list_of_all_principal_payments_list.append(pool1_all_principal_payments_list)\n",
    "        list_of_all_balances_list.append(pool1_all_balances_list)\n",
    "        ks.append(pool1_k)\n",
    "    except:\n",
    "        pass\n",
    "    \n",
    "    try:\n",
    "        pool2_k = pool2_remaining_month[i]\n",
    "        pool2_all_principal_payments_list = [pool2_ind_principal_payments]*pool2_loan_numbers[pool2_k]\n",
    "        pool2_all_balances_list = [pool2_ind_remaining_principals]*pool2_loan_numbers[pool2_k]\n",
    "        \n",
    "        list_of_all_principal_payments_list.append(pool2_all_principal_payments_list)\n",
    "        list_of_all_balances_list.append(pool2_all_balances_list)\n",
    "        ks.append(pool2_k)\n",
    "    except:\n",
    "        pass\n",
    "        \n",
    "    try:\n",
    "        pool3_k = remaining_month3[i]\n",
    "        pool3_all_principal_payments_list = [pool3_ind_scheduled_principal_payments]*loan_number3\n",
    "        pool3_all_balances_list = [pool3_ind_remaining_principals]*loan_number3\n",
    "        \n",
    "        list_of_all_principal_payments_list.append(pool3_all_principal_payments_list)\n",
    "        list_of_all_balances_list.append(pool3_all_balances_list)\n",
    "        ks.append(pool3_k)\n",
    "    except:\n",
    "        pass\n",
    "    \n",
    "    WAL = calculate_WAL_multiple(list_of_all_principal_payments_list, list_of_all_balances_list, ks)\n",
    "    pass_through_WALs.append(WAL)\n",
    "    \n"
   ],
   "id": "43beedb70f9d217f",
   "outputs": [],
   "execution_count": 54
  },
  {
   "metadata": {
    "ExecuteTime": {
     "end_time": "2024-04-08T15:41:18.704856Z",
     "start_time": "2024-04-08T15:41:18.700555Z"
    }
   },
   "cell_type": "code",
   "source": "pass_through_result",
   "id": "50783d06271f5ecd",
   "outputs": [
    {
     "data": {
      "text/plain": [
       "     Beginning Balance  Scheduled Principal Payments  \\\n",
       "0       987418017.8057                  1152057.1458   \n",
       "1       975521346.4634                  1176704.3295   \n",
       "2       963785803.9942                  1201048.9362   \n",
       "3       952210458.3498                  1225096.8043   \n",
       "4       940794385.4006                  1248853.7198   \n",
       "..                 ...                           ...   \n",
       "355        798029.2561                   157807.2061   \n",
       "356        635079.7042                   157426.7365   \n",
       "357        473785.3324                   157036.8876   \n",
       "358        314162.7432                   156637.5652   \n",
       "359        156228.6745                   156228.6745   \n",
       "\n",
       "     Unscheduled Principal Payments  Interest Expense  Unpaid Balance  \n",
       "0                     10744614.1964      5702958.9242  975521346.4634  \n",
       "1                     10558838.1398      5632676.9774  963785803.9942  \n",
       "2                     10374296.7083      5563349.5327  952210458.3498  \n",
       "3                     10190976.1450      5494970.7517  940794385.4006  \n",
       "4                     10108431.7569      5427534.8487  929437099.9239  \n",
       "..                              ...               ...             ...  \n",
       "355                       5142.3458         4522.1658     635079.7042  \n",
       "356                       3867.6354         3598.7850     473785.3324  \n",
       "357                       2585.7016         2684.7836     314162.7432  \n",
       "358                       1296.5035         1780.2555     156228.6745  \n",
       "359                          0.0000          885.2958          0.0000  \n",
       "\n",
       "[360 rows x 5 columns]"
      ],
      "text/html": [
       "<div>\n",
       "<style scoped>\n",
       "    .dataframe tbody tr th:only-of-type {\n",
       "        vertical-align: middle;\n",
       "    }\n",
       "\n",
       "    .dataframe tbody tr th {\n",
       "        vertical-align: top;\n",
       "    }\n",
       "\n",
       "    .dataframe thead th {\n",
       "        text-align: right;\n",
       "    }\n",
       "</style>\n",
       "<table border=\"1\" class=\"dataframe\">\n",
       "  <thead>\n",
       "    <tr style=\"text-align: right;\">\n",
       "      <th></th>\n",
       "      <th>Beginning Balance</th>\n",
       "      <th>Scheduled Principal Payments</th>\n",
       "      <th>Unscheduled Principal Payments</th>\n",
       "      <th>Interest Expense</th>\n",
       "      <th>Unpaid Balance</th>\n",
       "    </tr>\n",
       "  </thead>\n",
       "  <tbody>\n",
       "    <tr>\n",
       "      <th>0</th>\n",
       "      <td>987418017.8057</td>\n",
       "      <td>1152057.1458</td>\n",
       "      <td>10744614.1964</td>\n",
       "      <td>5702958.9242</td>\n",
       "      <td>975521346.4634</td>\n",
       "    </tr>\n",
       "    <tr>\n",
       "      <th>1</th>\n",
       "      <td>975521346.4634</td>\n",
       "      <td>1176704.3295</td>\n",
       "      <td>10558838.1398</td>\n",
       "      <td>5632676.9774</td>\n",
       "      <td>963785803.9942</td>\n",
       "    </tr>\n",
       "    <tr>\n",
       "      <th>2</th>\n",
       "      <td>963785803.9942</td>\n",
       "      <td>1201048.9362</td>\n",
       "      <td>10374296.7083</td>\n",
       "      <td>5563349.5327</td>\n",
       "      <td>952210458.3498</td>\n",
       "    </tr>\n",
       "    <tr>\n",
       "      <th>3</th>\n",
       "      <td>952210458.3498</td>\n",
       "      <td>1225096.8043</td>\n",
       "      <td>10190976.1450</td>\n",
       "      <td>5494970.7517</td>\n",
       "      <td>940794385.4006</td>\n",
       "    </tr>\n",
       "    <tr>\n",
       "      <th>4</th>\n",
       "      <td>940794385.4006</td>\n",
       "      <td>1248853.7198</td>\n",
       "      <td>10108431.7569</td>\n",
       "      <td>5427534.8487</td>\n",
       "      <td>929437099.9239</td>\n",
       "    </tr>\n",
       "    <tr>\n",
       "      <th>...</th>\n",
       "      <td>...</td>\n",
       "      <td>...</td>\n",
       "      <td>...</td>\n",
       "      <td>...</td>\n",
       "      <td>...</td>\n",
       "    </tr>\n",
       "    <tr>\n",
       "      <th>355</th>\n",
       "      <td>798029.2561</td>\n",
       "      <td>157807.2061</td>\n",
       "      <td>5142.3458</td>\n",
       "      <td>4522.1658</td>\n",
       "      <td>635079.7042</td>\n",
       "    </tr>\n",
       "    <tr>\n",
       "      <th>356</th>\n",
       "      <td>635079.7042</td>\n",
       "      <td>157426.7365</td>\n",
       "      <td>3867.6354</td>\n",
       "      <td>3598.7850</td>\n",
       "      <td>473785.3324</td>\n",
       "    </tr>\n",
       "    <tr>\n",
       "      <th>357</th>\n",
       "      <td>473785.3324</td>\n",
       "      <td>157036.8876</td>\n",
       "      <td>2585.7016</td>\n",
       "      <td>2684.7836</td>\n",
       "      <td>314162.7432</td>\n",
       "    </tr>\n",
       "    <tr>\n",
       "      <th>358</th>\n",
       "      <td>314162.7432</td>\n",
       "      <td>156637.5652</td>\n",
       "      <td>1296.5035</td>\n",
       "      <td>1780.2555</td>\n",
       "      <td>156228.6745</td>\n",
       "    </tr>\n",
       "    <tr>\n",
       "      <th>359</th>\n",
       "      <td>156228.6745</td>\n",
       "      <td>156228.6745</td>\n",
       "      <td>0.0000</td>\n",
       "      <td>885.2958</td>\n",
       "      <td>0.0000</td>\n",
       "    </tr>\n",
       "  </tbody>\n",
       "</table>\n",
       "<p>360 rows × 5 columns</p>\n",
       "</div>"
      ]
     },
     "execution_count": 55,
     "metadata": {},
     "output_type": "execute_result"
    }
   ],
   "execution_count": 55
  },
  {
   "metadata": {
    "ExecuteTime": {
     "end_time": "2024-04-08T15:41:18.708008Z",
     "start_time": "2024-04-08T15:41:18.705531Z"
    }
   },
   "cell_type": "code",
   "source": [
    "pass_through_result['SMM']=((pass_through_result[\"Beginning Balance\"] - pass_through_result[\"Scheduled Principal Payments\"] - pass_through_result['Unpaid Balance'])/\n",
    " (pass_through_result[\"Beginning Balance\"] - pass_through_result[\"Scheduled Principal Payments\"])).fillna(0) # (Scheduled Balance - Actual Balance)/ Scheduled Balance"
   ],
   "id": "abaf05680b7d2006",
   "outputs": [],
   "execution_count": 56
  },
  {
   "metadata": {
    "ExecuteTime": {
     "end_time": "2024-04-08T15:41:18.710279Z",
     "start_time": "2024-04-08T15:41:18.708531Z"
    }
   },
   "cell_type": "code",
   "source": [
    "pass_through_result[\"WAC\"] = pass_through_WACs\n",
    "pass_through_result[\"WAL\"] = pass_through_WALs"
   ],
   "id": "27007e15d98aaec7",
   "outputs": [],
   "execution_count": 57
  },
  {
   "metadata": {},
   "cell_type": "markdown",
   "source": "Now, let us calcualte net coupon per month",
   "id": "fc08996148294587"
  },
  {
   "metadata": {
    "ExecuteTime": {
     "end_time": "2024-04-08T15:41:18.712698Z",
     "start_time": "2024-04-08T15:41:18.710847Z"
    }
   },
   "cell_type": "code",
   "source": "pass_through_result[\"Net Coupon\"] = pass_through_result[\"Scheduled Principal Payments\"] + pass_through_result[\"Unscheduled Principal Payments\"] + pass_through_result[\"Interest Expense\"] * (1- 0.0075)",
   "id": "b4ea7af19d138fff",
   "outputs": [],
   "execution_count": 58
  },
  {
   "metadata": {
    "ExecuteTime": {
     "end_time": "2024-04-08T15:41:18.717502Z",
     "start_time": "2024-04-08T15:41:18.713209Z"
    }
   },
   "cell_type": "code",
   "source": "pass_through_result",
   "id": "b4e2e256a188584c",
   "outputs": [
    {
     "data": {
      "text/plain": [
       "     Beginning Balance  Scheduled Principal Payments  \\\n",
       "0       987418017.8057                  1152057.1458   \n",
       "1       975521346.4634                  1176704.3295   \n",
       "2       963785803.9942                  1201048.9362   \n",
       "3       952210458.3498                  1225096.8043   \n",
       "4       940794385.4006                  1248853.7198   \n",
       "..                 ...                           ...   \n",
       "355        798029.2561                   157807.2061   \n",
       "356        635079.7042                   157426.7365   \n",
       "357        473785.3324                   157036.8876   \n",
       "358        314162.7432                   156637.5652   \n",
       "359        156228.6745                   156228.6745   \n",
       "\n",
       "     Unscheduled Principal Payments  Interest Expense  Unpaid Balance    SMM  \\\n",
       "0                     10744614.1964      5702958.9242  975521346.4634 0.0109   \n",
       "1                     10558838.1398      5632676.9774  963785803.9942 0.0108   \n",
       "2                     10374296.7083      5563349.5327  952210458.3498 0.0108   \n",
       "3                     10190976.1450      5494970.7517  940794385.4006 0.0107   \n",
       "4                     10108431.7569      5427534.8487  929437099.9239 0.0108   \n",
       "..                              ...               ...             ...    ...   \n",
       "355                       5142.3458         4522.1658     635079.7042 0.0080   \n",
       "356                       3867.6354         3598.7850     473785.3324 0.0081   \n",
       "357                       2585.7016         2684.7836     314162.7432 0.0082   \n",
       "358                       1296.5035         1780.2555     156228.6745 0.0082   \n",
       "359                          0.0000          885.2958          0.0000 0.0000   \n",
       "\n",
       "       WAC      WAL    Net Coupon  \n",
       "0   0.0685 181.9092 17556858.0745  \n",
       "1   0.0685 181.5435 17325974.3694  \n",
       "2   0.0685 181.1786 17096970.0557  \n",
       "3   0.0685 180.8146 16869831.4204  \n",
       "4   0.0685 180.4460 16744113.8140  \n",
       "..     ...      ...           ...  \n",
       "355 0.0680   2.5071   167437.8015  \n",
       "356 0.0680   2.0038   164866.1660  \n",
       "357 0.0680   1.5014   162287.2369  \n",
       "358 0.0680   1.0000   159700.9723  \n",
       "359 0.0680   0.0000   157107.3306  \n",
       "\n",
       "[360 rows x 9 columns]"
      ],
      "text/html": [
       "<div>\n",
       "<style scoped>\n",
       "    .dataframe tbody tr th:only-of-type {\n",
       "        vertical-align: middle;\n",
       "    }\n",
       "\n",
       "    .dataframe tbody tr th {\n",
       "        vertical-align: top;\n",
       "    }\n",
       "\n",
       "    .dataframe thead th {\n",
       "        text-align: right;\n",
       "    }\n",
       "</style>\n",
       "<table border=\"1\" class=\"dataframe\">\n",
       "  <thead>\n",
       "    <tr style=\"text-align: right;\">\n",
       "      <th></th>\n",
       "      <th>Beginning Balance</th>\n",
       "      <th>Scheduled Principal Payments</th>\n",
       "      <th>Unscheduled Principal Payments</th>\n",
       "      <th>Interest Expense</th>\n",
       "      <th>Unpaid Balance</th>\n",
       "      <th>SMM</th>\n",
       "      <th>WAC</th>\n",
       "      <th>WAL</th>\n",
       "      <th>Net Coupon</th>\n",
       "    </tr>\n",
       "  </thead>\n",
       "  <tbody>\n",
       "    <tr>\n",
       "      <th>0</th>\n",
       "      <td>987418017.8057</td>\n",
       "      <td>1152057.1458</td>\n",
       "      <td>10744614.1964</td>\n",
       "      <td>5702958.9242</td>\n",
       "      <td>975521346.4634</td>\n",
       "      <td>0.0109</td>\n",
       "      <td>0.0685</td>\n",
       "      <td>181.9092</td>\n",
       "      <td>17556858.0745</td>\n",
       "    </tr>\n",
       "    <tr>\n",
       "      <th>1</th>\n",
       "      <td>975521346.4634</td>\n",
       "      <td>1176704.3295</td>\n",
       "      <td>10558838.1398</td>\n",
       "      <td>5632676.9774</td>\n",
       "      <td>963785803.9942</td>\n",
       "      <td>0.0108</td>\n",
       "      <td>0.0685</td>\n",
       "      <td>181.5435</td>\n",
       "      <td>17325974.3694</td>\n",
       "    </tr>\n",
       "    <tr>\n",
       "      <th>2</th>\n",
       "      <td>963785803.9942</td>\n",
       "      <td>1201048.9362</td>\n",
       "      <td>10374296.7083</td>\n",
       "      <td>5563349.5327</td>\n",
       "      <td>952210458.3498</td>\n",
       "      <td>0.0108</td>\n",
       "      <td>0.0685</td>\n",
       "      <td>181.1786</td>\n",
       "      <td>17096970.0557</td>\n",
       "    </tr>\n",
       "    <tr>\n",
       "      <th>3</th>\n",
       "      <td>952210458.3498</td>\n",
       "      <td>1225096.8043</td>\n",
       "      <td>10190976.1450</td>\n",
       "      <td>5494970.7517</td>\n",
       "      <td>940794385.4006</td>\n",
       "      <td>0.0107</td>\n",
       "      <td>0.0685</td>\n",
       "      <td>180.8146</td>\n",
       "      <td>16869831.4204</td>\n",
       "    </tr>\n",
       "    <tr>\n",
       "      <th>4</th>\n",
       "      <td>940794385.4006</td>\n",
       "      <td>1248853.7198</td>\n",
       "      <td>10108431.7569</td>\n",
       "      <td>5427534.8487</td>\n",
       "      <td>929437099.9239</td>\n",
       "      <td>0.0108</td>\n",
       "      <td>0.0685</td>\n",
       "      <td>180.4460</td>\n",
       "      <td>16744113.8140</td>\n",
       "    </tr>\n",
       "    <tr>\n",
       "      <th>...</th>\n",
       "      <td>...</td>\n",
       "      <td>...</td>\n",
       "      <td>...</td>\n",
       "      <td>...</td>\n",
       "      <td>...</td>\n",
       "      <td>...</td>\n",
       "      <td>...</td>\n",
       "      <td>...</td>\n",
       "      <td>...</td>\n",
       "    </tr>\n",
       "    <tr>\n",
       "      <th>355</th>\n",
       "      <td>798029.2561</td>\n",
       "      <td>157807.2061</td>\n",
       "      <td>5142.3458</td>\n",
       "      <td>4522.1658</td>\n",
       "      <td>635079.7042</td>\n",
       "      <td>0.0080</td>\n",
       "      <td>0.0680</td>\n",
       "      <td>2.5071</td>\n",
       "      <td>167437.8015</td>\n",
       "    </tr>\n",
       "    <tr>\n",
       "      <th>356</th>\n",
       "      <td>635079.7042</td>\n",
       "      <td>157426.7365</td>\n",
       "      <td>3867.6354</td>\n",
       "      <td>3598.7850</td>\n",
       "      <td>473785.3324</td>\n",
       "      <td>0.0081</td>\n",
       "      <td>0.0680</td>\n",
       "      <td>2.0038</td>\n",
       "      <td>164866.1660</td>\n",
       "    </tr>\n",
       "    <tr>\n",
       "      <th>357</th>\n",
       "      <td>473785.3324</td>\n",
       "      <td>157036.8876</td>\n",
       "      <td>2585.7016</td>\n",
       "      <td>2684.7836</td>\n",
       "      <td>314162.7432</td>\n",
       "      <td>0.0082</td>\n",
       "      <td>0.0680</td>\n",
       "      <td>1.5014</td>\n",
       "      <td>162287.2369</td>\n",
       "    </tr>\n",
       "    <tr>\n",
       "      <th>358</th>\n",
       "      <td>314162.7432</td>\n",
       "      <td>156637.5652</td>\n",
       "      <td>1296.5035</td>\n",
       "      <td>1780.2555</td>\n",
       "      <td>156228.6745</td>\n",
       "      <td>0.0082</td>\n",
       "      <td>0.0680</td>\n",
       "      <td>1.0000</td>\n",
       "      <td>159700.9723</td>\n",
       "    </tr>\n",
       "    <tr>\n",
       "      <th>359</th>\n",
       "      <td>156228.6745</td>\n",
       "      <td>156228.6745</td>\n",
       "      <td>0.0000</td>\n",
       "      <td>885.2958</td>\n",
       "      <td>0.0000</td>\n",
       "      <td>0.0000</td>\n",
       "      <td>0.0680</td>\n",
       "      <td>0.0000</td>\n",
       "      <td>157107.3306</td>\n",
       "    </tr>\n",
       "  </tbody>\n",
       "</table>\n",
       "<p>360 rows × 9 columns</p>\n",
       "</div>"
      ]
     },
     "execution_count": 59,
     "metadata": {},
     "output_type": "execute_result"
    }
   ],
   "execution_count": 59
  },
  {
   "metadata": {
    "ExecuteTime": {
     "end_time": "2024-04-08T15:41:19.082499Z",
     "start_time": "2024-04-08T15:41:18.718140Z"
    }
   },
   "cell_type": "code",
   "source": [
    "import matplotlib.pyplot as plt\n",
    "\n",
    "plt.figure(figsize=(10, 6))\n",
    "\n",
    "plt.plot(pool1_result.index, pool1_result['WAC'], label='Pool 1 WAC')\n",
    "plt.plot(pool2_result.index, pool2_result['WAC'], label='Pool 2 WAC')\n",
    "plt.plot(pool3_result.index, pool3_result['WAC'], label='Pool 3 WAC')\n",
    "plt.plot(pass_through_result.index, pass_through_result['WAC'], label='Pass Through WAC')\n",
    "\n",
    "plt.xlabel('Month')\n",
    "plt.ylabel('Value')\n",
    "plt.title('WAC over time for different pools and pass through')\n",
    "plt.legend()\n",
    "\n",
    "plt.show()"
   ],
   "id": "5ed627a69cee3af6",
   "outputs": [
    {
     "data": {
      "text/plain": [
       "<Figure size 1000x600 with 1 Axes>"
      ],
      "image/png": "[encoded data removed]"
     },
     "metadata": {},
     "output_type": "display_data"
    }
   ],
   "execution_count": 60
  },
  {
   "metadata": {
    "ExecuteTime": {
     "end_time": "2024-04-08T15:41:19.169532Z",
     "start_time": "2024-04-08T15:41:19.083350Z"
    }
   },
   "cell_type": "code",
   "source": [
    "import matplotlib.pyplot as plt\n",
    "\n",
    "plt.figure(figsize=(10, 6))\n",
    "\n",
    "plt.plot(pool1_result.index, pool1_result['WAL'], label='Pool 1')\n",
    "plt.plot(pool2_result.index, pool2_result['WAL'], label='Pool 2')\n",
    "plt.plot(pool3_result.index, pool3_result['WAL'], label='Pool 3')\n",
    "plt.plot(pass_through_result.index, pass_through_result['WAL'], label='Pass Through')\n",
    "\n",
    "plt.xlabel('Month')\n",
    "plt.ylabel('WAL')\n",
    "plt.title('WAL over time for different pools and pass through')\n",
    "plt.legend()\n",
    "\n",
    "plt.show()"
   ],
   "id": "55711e4f7d8776e4",
   "outputs": [
    {
     "data": {
      "text/plain": [
       "<Figure size 1000x600 with 1 Axes>"
      ],
      "image/png": "[encoded data removed]"
     },
     "metadata": {},
     "output_type": "display_data"
    }
   ],
   "execution_count": 61
  },
  {
   "metadata": {
    "ExecuteTime": {
     "end_time": "2024-04-08T15:41:19.261104Z",
     "start_time": "2024-04-08T15:41:19.170101Z"
    }
   },
   "cell_type": "code",
   "source": [
    "import matplotlib.pyplot as plt\n",
    "\n",
    "plt.figure(figsize=(10, 6))\n",
    "\n",
    "plt.plot(pool1_result.index, pool1_result['SMM'], label='Pool 1 SMM')\n",
    "plt.plot(pool2_result.index, pool2_result['SMM'], label='Pool 2 SMM')\n",
    "plt.plot(pool3_result.index, pool3_result['SMM'], label='Pool 3 SMM')\n",
    "plt.plot(pass_through_result.index, pass_through_result['SMM'], label='Pass Through SMM')\n",
    "\n",
    "plt.xlabel('Month')\n",
    "plt.ylabel('Value')\n",
    "plt.title('WAC and SMM over time for different pools and pass through')\n",
    "plt.legend()\n",
    "\n",
    "plt.show()"
   ],
   "id": "253d4a1571789e8d",
   "outputs": [
    {
     "data": {
      "text/plain": [
       "<Figure size 1000x600 with 1 Axes>"
      ],
      "image/png": "[encoded data removed]"
     },
     "metadata": {},
     "output_type": "display_data"
    }
   ],
   "execution_count": 62
  },
  {
   "metadata": {},
   "cell_type": "markdown",
   "source": [
    "# Conclusion\n",
    "\n",
    "Explain the drivers of trends in WAC, WAL, SMM.\n",
    "\n",
    "Regarding WAC, the trend is consistent with the individual loan WAC that is WAC is the same for fixed-rate pool if the pool have identical characteristics. It is influenced by its coupon rate of the loans in the pool. The higher the coupon rate, the higher the WAC. However, the WAC is not fixed across the lifycycle of pass-through. Balance changes over time especially if there is a mixture impact of preparyment and curtailment from pool2 and pool3, which results the dynamic of balance of aggregate loans more complex.\n",
    "\n",
    "Regarding WAL, the major drivers of WAL is loan maturity and curtailment. In pool3, while fixing the SMM the same across the time and assume that borrowers just curtail rather than prepay, the WAL is lowest among the pools. The second driver is loan maturity, the higher maturity is, the higher WAL is. Pass-through WAL is bounded by the highest WAL of the pools and is mixture of WALs of the pools. The aggregation of WALs of the pools is not linear, it is influenced by the balance of the loans in the pools. \n",
    "\n",
    "Regarding SMM, the driver of SMM is curtailment and prepayment. If there is no curtailment or prepayment, then SMM is zero. Also, comparing to the effect of curtailment and prepayment. The impact of curtailment keeps the SMM elevated over time, which has a higher impact on the SMM than prepayment. Pass-Trhough SMM is the aggregation of SMMs of the pools, for which the shape resembles with ones of pools. "
   ],
   "id": "f7262ce10cbb75ac"
  }
 ],
 "metadata": {
  "kernelspec": {
   "display_name": "Python 3",
   "language": "python",
   "name": "python3"
  },
  "language_info": {
   "codemirror_mode": {
    "name": "ipython",
    "version": 2
   },
   "file_extension": ".py",
   "mimetype": "text/x-python",
   "name": "python",
   "nbconvert_exporter": "python",
   "pygments_lexer": "ipython2",
   "version": "2.7.6"
  }
 },
 "nbformat": 4,
 "nbformat_minor": 5
}
