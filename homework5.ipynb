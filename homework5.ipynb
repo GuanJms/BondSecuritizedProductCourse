{
 "cells": [
  {
   "metadata": {},
   "cell_type": "markdown",
   "source": [
    "# Homework5 -  OAS Model Part I\n",
    "\n",
    "NetID: sg7993\n",
    "\n",
    "Name: James Guan"
   ],
   "id": "277d9db491d26dde"
  },
  {
   "metadata": {
    "ExecuteTime": {
     "end_time": "2024-04-29T03:20:13.053765Z",
     "start_time": "2024-04-29T03:20:12.627293Z"
    }
   },
   "cell_type": "code",
   "source": [
    "import numpy as np\n",
    "import pandas as pd\n",
    "from typing import Optional, List, Dict\n",
    "import matplotlib.pyplot as plt\n"
   ],
   "id": "41ffc0f3094cd481",
   "outputs": [],
   "execution_count": 1
  },
  {
   "metadata": {},
   "cell_type": "markdown",
   "source": "Load forward simulation data that was provided in the assignment",
   "id": "8a02181c26b132a8"
  },
  {
   "metadata": {
    "ExecuteTime": {
     "end_time": "2024-04-29T03:20:13.073871Z",
     "start_time": "2024-04-29T03:20:13.054762Z"
    }
   },
   "cell_type": "code",
   "source": [
    "# rotate index and columns\n",
    "forward_rate_paths = pd.read_csv('data/hw5_forward_paths.csv', index_col=0).T/100\n",
    "forward_rate_paths.shape"
   ],
   "id": "949aa0a27c86ac40",
   "outputs": [
    {
     "data": {
      "text/plain": [
       "(360, 500)"
      ]
     },
     "execution_count": 2,
     "metadata": {},
     "output_type": "execute_result"
    }
   ],
   "execution_count": 2
  },
  {
   "metadata": {
    "ExecuteTime": {
     "end_time": "2024-04-29T03:20:13.079386Z",
     "start_time": "2024-04-29T03:20:13.074641Z"
    }
   },
   "cell_type": "code",
   "source": "forward_rate_paths.iloc[0:5, 0:5]",
   "id": "790ba2a80a365c92",
   "outputs": [
    {
     "data": {
      "text/plain": [
       "path         1         2         3         4         5\n",
       "0     0.001700  0.001700  0.001700  0.001700  0.001700\n",
       "1     0.002078  0.001683  0.001519  0.002242  0.001752\n",
       "2     0.002465  0.001633  0.001285  0.002813  0.001777\n",
       "3     0.002823  0.001568  0.001044  0.003347  0.001786\n",
       "4     0.003212  0.002101  0.001365  0.003963  0.002086"
      ],
      "text/html": [
       "<div>\n",
       "<style scoped>\n",
       "    .dataframe tbody tr th:only-of-type {\n",
       "        vertical-align: middle;\n",
       "    }\n",
       "\n",
       "    .dataframe tbody tr th {\n",
       "        vertical-align: top;\n",
       "    }\n",
       "\n",
       "    .dataframe thead th {\n",
       "        text-align: right;\n",
       "    }\n",
       "</style>\n",
       "<table border=\"1\" class=\"dataframe\">\n",
       "  <thead>\n",
       "    <tr style=\"text-align: right;\">\n",
       "      <th>path</th>\n",
       "      <th>1</th>\n",
       "      <th>2</th>\n",
       "      <th>3</th>\n",
       "      <th>4</th>\n",
       "      <th>5</th>\n",
       "    </tr>\n",
       "  </thead>\n",
       "  <tbody>\n",
       "    <tr>\n",
       "      <th>0</th>\n",
       "      <td>0.001700</td>\n",
       "      <td>0.001700</td>\n",
       "      <td>0.001700</td>\n",
       "      <td>0.001700</td>\n",
       "      <td>0.001700</td>\n",
       "    </tr>\n",
       "    <tr>\n",
       "      <th>1</th>\n",
       "      <td>0.002078</td>\n",
       "      <td>0.001683</td>\n",
       "      <td>0.001519</td>\n",
       "      <td>0.002242</td>\n",
       "      <td>0.001752</td>\n",
       "    </tr>\n",
       "    <tr>\n",
       "      <th>2</th>\n",
       "      <td>0.002465</td>\n",
       "      <td>0.001633</td>\n",
       "      <td>0.001285</td>\n",
       "      <td>0.002813</td>\n",
       "      <td>0.001777</td>\n",
       "    </tr>\n",
       "    <tr>\n",
       "      <th>3</th>\n",
       "      <td>0.002823</td>\n",
       "      <td>0.001568</td>\n",
       "      <td>0.001044</td>\n",
       "      <td>0.003347</td>\n",
       "      <td>0.001786</td>\n",
       "    </tr>\n",
       "    <tr>\n",
       "      <th>4</th>\n",
       "      <td>0.003212</td>\n",
       "      <td>0.002101</td>\n",
       "      <td>0.001365</td>\n",
       "      <td>0.003963</td>\n",
       "      <td>0.002086</td>\n",
       "    </tr>\n",
       "  </tbody>\n",
       "</table>\n",
       "</div>"
      ]
     },
     "execution_count": 3,
     "metadata": {},
     "output_type": "execute_result"
    }
   ],
   "execution_count": 3
  },
  {
   "metadata": {},
   "cell_type": "markdown",
   "source": "Basic information of the TBA",
   "id": "13057f8b5d44d981"
  },
  {
   "metadata": {
    "ExecuteTime": {
     "end_time": "2024-04-29T03:20:13.082077Z",
     "start_time": "2024-04-29T03:20:13.079984Z"
    }
   },
   "cell_type": "code",
   "source": [
    "current_loan_balance = 405_903_000_000\n",
    "original_loan_balance = 518_318_000_000\n",
    "factor = current_loan_balance / original_loan_balance # 0.783115983\n",
    "c = 0.04070\n",
    "fee = c - 0.035\n",
    "og_maturity = 360\n",
    "WALA = 29 # 360 - 331\n",
    "print(\"Current Loan Balance:\", current_loan_balance\n",
    "      , \"\\nOriginal Loan Balance:\", original_loan_balance\n",
    "      , \"\\nFactor:\", factor\n",
    "      , \"\\nWAC:\", c\n",
    "      , \"\\nServicing Fee:\", round(fee,4)\n",
    "      , \"\\nOriginal Maturity:\", og_maturity\n",
    "      , \"\\nWALA:\", WALA)"
   ],
   "id": "bab44c8664d987c",
   "outputs": [
    {
     "name": "stdout",
     "output_type": "stream",
     "text": [
      "Current Loan Balance: 405903000000 \n",
      "Original Loan Balance: 518318000000 \n",
      "Factor: 0.7831157706272983 \n",
      "WAC: 0.0407 \n",
      "Servicing Fee: 0.0057 \n",
      "Original Maturity: 360 \n",
      "WALA: 29\n"
     ]
    }
   ],
   "execution_count": 4
  },
  {
   "metadata": {},
   "cell_type": "markdown",
   "source": "Let us demonstrate the methodology to calculate 10-yr at-market swap rate. ",
   "id": "b9c7d70bd395220d"
  },
  {
   "metadata": {
    "ExecuteTime": {
     "end_time": "2024-04-29T03:20:13.085937Z",
     "start_time": "2024-04-29T03:20:13.083559Z"
    }
   },
   "cell_type": "code",
   "source": [
    "test_path = forward_rate_paths.iloc[:,0].values\n",
    "print(\"Test forward rate shape:\", test_path.shape)\n",
    "test_path[:5]"
   ],
   "id": "6d70960c9b7749ad",
   "outputs": [
    {
     "name": "stdout",
     "output_type": "stream",
     "text": [
      "Test forward rate shape: (360,)\n"
     ]
    },
    {
     "data": {
      "text/plain": [
       "array([0.0017    , 0.00207781, 0.00246529, 0.00282341, 0.00321245])"
      ]
     },
     "execution_count": 5,
     "metadata": {},
     "output_type": "execute_result"
    }
   ],
   "execution_count": 5
  },
  {
   "metadata": {
    "ExecuteTime": {
     "end_time": "2024-04-29T03:20:13.087956Z",
     "start_time": "2024-04-29T03:20:13.086466Z"
    }
   },
   "cell_type": "code",
   "source": [
    "rates_10yr = test_path[0:120]\n",
    "print(\"10-yr forward rate shape:\", rates_10yr.shape)"
   ],
   "id": "350ee8584d60ea4c",
   "outputs": [
    {
     "name": "stdout",
     "output_type": "stream",
     "text": [
      "10-yr forward rate shape: (120,)\n"
     ]
    }
   ],
   "execution_count": 6
  },
  {
   "metadata": {
    "ExecuteTime": {
     "end_time": "2024-04-29T03:20:13.090175Z",
     "start_time": "2024-04-29T03:20:13.088477Z"
    }
   },
   "cell_type": "code",
   "source": [
    "def calculate_discount_factors(rates):\n",
    "    d = 1\n",
    "    dfs = []\n",
    "    for r in rates:\n",
    "        d = d / (1 + r/12)\n",
    "        dfs.append(d)\n",
    "    return dfs"
   ],
   "id": "740c39284a9575dd",
   "outputs": [],
   "execution_count": 7
  },
  {
   "metadata": {
    "ExecuteTime": {
     "end_time": "2024-04-29T03:20:13.093127Z",
     "start_time": "2024-04-29T03:20:13.091006Z"
    }
   },
   "cell_type": "code",
   "source": "rates_10yr[:5]",
   "id": "5e3074dbdb2052b8",
   "outputs": [
    {
     "data": {
      "text/plain": [
       "array([0.0017    , 0.00207781, 0.00246529, 0.00282341, 0.00321245])"
      ]
     },
     "execution_count": 8,
     "metadata": {},
     "output_type": "execute_result"
    }
   ],
   "execution_count": 8
  },
  {
   "metadata": {
    "ExecuteTime": {
     "end_time": "2024-04-29T03:20:13.095483Z",
     "start_time": "2024-04-29T03:20:13.093654Z"
    }
   },
   "cell_type": "code",
   "source": [
    "dfs = calculate_discount_factors(rates_10yr)\n",
    "dfs[:5], type(dfs)"
   ],
   "id": "70aa25aefc7d6d26",
   "outputs": [
    {
     "data": {
      "text/plain": [
       "([0.999858353399935,\n",
       "  0.9996852571620557,\n",
       "  0.9994799230971279,\n",
       "  0.9992448169286757,\n",
       "  0.9989773866871824],\n",
       " list)"
      ]
     },
     "execution_count": 9,
     "metadata": {},
     "output_type": "execute_result"
    }
   ],
   "execution_count": 9
  },
  {
   "metadata": {
    "ExecuteTime": {
     "end_time": "2024-04-29T03:20:13.097303Z",
     "start_time": "2024-04-29T03:20:13.095951Z"
    }
   },
   "cell_type": "code",
   "source": [
    "def calculate_swap_rate(discount_factors: list):\n",
    "    sr = 12 * (1 - discount_factors[-1]) / sum(discount_factors)\n",
    "    return sr"
   ],
   "id": "dd046467618cc4b6",
   "outputs": [],
   "execution_count": 10
  },
  {
   "metadata": {
    "ExecuteTime": {
     "end_time": "2024-04-29T03:20:13.099600Z",
     "start_time": "2024-04-29T03:20:13.097810Z"
    }
   },
   "cell_type": "code",
   "source": "calculate_swap_rate(dfs)",
   "id": "9066694093cbb8cc",
   "outputs": [
    {
     "data": {
      "text/plain": [
       "0.05751145314889102"
      ]
     },
     "execution_count": 11,
     "metadata": {},
     "output_type": "execute_result"
    }
   ],
   "execution_count": 11
  },
  {
   "metadata": {},
   "cell_type": "markdown",
   "source": "Now let us put the above code into the forward yield curve class",
   "id": "9d7bb4f742bb9450"
  },
  {
   "metadata": {
    "ExecuteTime": {
     "end_time": "2024-04-29T03:20:13.103952Z",
     "start_time": "2024-04-29T03:20:13.100129Z"
    }
   },
   "cell_type": "code",
   "source": [
    "class ForwardYieldCurve:    \n",
    "    def __init__(self, rate_data: np.array, **kwargs):\n",
    "        self._spread = kwargs.get('spread', 0.0175)\n",
    "        self._data = rate_data\n",
    "        self._10yr_market_swap_rate: Optional[list] = None\n",
    "        \n",
    "    def calculate_swap_rate(self):\n",
    "        self._10yr_market_swap_rate = []\n",
    "        for i in range(len(self._data)):\n",
    "            if i + 120 < len(self._data):\n",
    "                _10yr_rates = self._data[i: i+120]\n",
    "                dfs = self._calculate_discount_factors(_10yr_rates)\n",
    "                sr = self._calculate_swap_rate(dfs)\n",
    "                self._10yr_market_swap_rate.append(sr)\n",
    "            else:\n",
    "                prev = self._10yr_market_swap_rate[-1]\n",
    "                self._10yr_market_swap_rate.append(prev)\n",
    "    \n",
    "    def get_swap_rate(self, i):\n",
    "        if self._10yr_market_swap_rate is None:\n",
    "            self.calculate_swap_rate()\n",
    "        if i >= len(self._10yr_market_swap_rate):\n",
    "            raise ValueError('No swap rate for the given period')\n",
    "        return self._10yr_market_swap_rate[i]\n",
    "    \n",
    "    def get_forward_rate(self, i):\n",
    "        if i >= len(self._data):\n",
    "            raise ValueError('No forward rate for the given period')\n",
    "        return self._data[i]\n",
    "    \n",
    "    def get_prevailing_mortgage_rate(self, i):\n",
    "        if i >= len(self._data):\n",
    "            raise ValueError('No mortgage rate for the given period')\n",
    "        return self.get_swap_rate(i) + self._spread\n",
    "    \n",
    "    def shock(self, bps: float):\n",
    "        self._data = self._data + bps/10000\n",
    "    \n",
    "    @staticmethod\n",
    "    def _calculate_discount_factors(rates):\n",
    "        d = 1\n",
    "        dfs = []\n",
    "        for r in rates:\n",
    "            d = d / (1 + r/12)\n",
    "            dfs.append(d)\n",
    "        return dfs\n",
    "    \n",
    "    @staticmethod\n",
    "    def _calculate_swap_rate(dfs: list) -> float:\n",
    "        sr = 12 * (1 - dfs[-1]) / sum(dfs)\n",
    "        return sr"
   ],
   "id": "c6eb2ca95975357a",
   "outputs": [],
   "execution_count": 12
  },
  {
   "metadata": {
    "ExecuteTime": {
     "end_time": "2024-04-29T03:20:13.106642Z",
     "start_time": "2024-04-29T03:20:13.104805Z"
    }
   },
   "cell_type": "code",
   "source": [
    "test_rate_path = forward_rate_paths.iloc[:,0].values # numpy array\n",
    "fyc = ForwardYieldCurve(test_rate_path)"
   ],
   "id": "6790b207a1feec35",
   "outputs": [],
   "execution_count": 13
  },
  {
   "metadata": {
    "ExecuteTime": {
     "end_time": "2024-04-29T03:20:13.115414Z",
     "start_time": "2024-04-29T03:20:13.109036Z"
    }
   },
   "cell_type": "code",
   "source": [
    "fyc.calculate_swap_rate()\n",
    "fyc.get_swap_rate(0)"
   ],
   "id": "72548172e33661cd",
   "outputs": [
    {
     "data": {
      "text/plain": [
       "0.05751145314889102"
      ]
     },
     "execution_count": 14,
     "metadata": {},
     "output_type": "execute_result"
    }
   ],
   "execution_count": 14
  },
  {
   "metadata": {
    "ExecuteTime": {
     "end_time": "2024-04-29T03:20:13.119108Z",
     "start_time": "2024-04-29T03:20:13.116063Z"
    }
   },
   "cell_type": "code",
   "source": [
    "class SCurve:\n",
    "    \n",
    "    def __init__(self, data: Dict[float| int, float | int], **kwargs):\n",
    "        self._method = kwargs.get('method', 'linear')\n",
    "        self._data = data\n",
    "        self._x = sorted(data.keys())\n",
    "        self._y = [data[k] for k in self._x]\n",
    "    \n",
    "    def get_psa(self, x: float | int) -> float:\n",
    "        # x = prevailing mortgage rate - mortgage rate (fixed in our case)\n",
    "        if self._method == 'linear':\n",
    "            return self._linear_psa(x)\n",
    "        else:\n",
    "            raise ValueError('Invalid method')\n",
    "    \n",
    "    def _linear_psa(self, bps: float | int) -> float:\n",
    "        x = bps\n",
    "        if x < self._x[0]:\n",
    "            return self._y[0]\n",
    "        if x > self._x[-1]:\n",
    "            return self._y[-1]\n",
    "        for i in range(1, len(self._x)):\n",
    "            if x <= self._x[i]:\n",
    "                return self._y[i-1] + (x - self._x[i-1]) * (self._y[i] - self._y[i-1]) / (self._x[i] - self._x[i-1])\n",
    "        return self._y[-1]"
   ],
   "id": "f59b98483f0296ef",
   "outputs": [],
   "execution_count": 15
  },
  {
   "metadata": {
    "ExecuteTime": {
     "end_time": "2024-04-29T03:20:13.121442Z",
     "start_time": "2024-04-29T03:20:13.119751Z"
    }
   },
   "cell_type": "code",
   "source": [
    "diff = [-300, -200, -100, -50, 0 , 50, 100, 200, 300]\n",
    "psa_speed = [1164, 998, 621, 371, 185, 145,117,90,83]\n",
    "psa_data = dict(zip(diff, psa_speed))\n",
    "scurve = SCurve(psa_data)"
   ],
   "id": "29b8de2e1ac9cab7",
   "outputs": [],
   "execution_count": 16
  },
  {
   "metadata": {},
   "cell_type": "markdown",
   "source": "Verify the PSA curve (linear interpolation)",
   "id": "577b4370f00105ae"
  },
  {
   "metadata": {
    "ExecuteTime": {
     "end_time": "2024-04-29T03:20:13.184152Z",
     "start_time": "2024-04-29T03:20:13.122158Z"
    }
   },
   "cell_type": "code",
   "source": [
    "# Existing plot\n",
    "x = np.linspace(-300, 300, 100)\n",
    "y = [scurve.get_psa(i) for i in x]\n",
    "plt.plot(x, y)\n",
    "\n",
    "# Add scatter points\n",
    "x_scatter = list(psa_data.keys())\n",
    "y_scatter = list(psa_data.values())\n",
    "plt.scatter(x_scatter, y_scatter, color='red')  # color is optional\n",
    "\n",
    "plt.xlabel('Difference between Prevailing Mortgage Rate and Mortgage Rate (bps)')\n",
    "plt.show()"
   ],
   "id": "26a88042fb6f8ffa",
   "outputs": [
    {
     "data": {
      "text/plain": [
       "<Figure size 640x480 with 1 Axes>"
      ],
      "image/png": "[encoded data removed]"
     },
     "metadata": {},
     "output_type": "display_data"
    }
   ],
   "execution_count": 17
  },
  {
   "metadata": {
    "ExecuteTime": {
     "end_time": "2024-04-29T03:20:13.187310Z",
     "start_time": "2024-04-29T03:20:13.185006Z"
    }
   },
   "cell_type": "code",
   "source": [
    "class PSA: # TODO: optimization needed in the future\n",
    "    \n",
    "    def __init__(self, speed: float):\n",
    "        self._speed = speed\n",
    "        self.end_CPR = 0.06 * speed/100\n",
    "        \n",
    "    @property\n",
    "    def speed(self):\n",
    "        return self._speed\n",
    "    \n",
    "    def CPR(self, month_index: int):\n",
    "        return min(self.end_CPR,  0.002 + (self.end_CPR - 0.002)/30 * month_index) \n",
    "    \n",
    "    def SMM(self, month_index: int):\n",
    "        return 1 - (1 - self.CPR(month_index))**(1/12)"
   ],
   "id": "e3b917fa63577309",
   "outputs": [],
   "execution_count": 18
  },
  {
   "metadata": {
    "ExecuteTime": {
     "end_time": "2024-04-29T03:20:13.192694Z",
     "start_time": "2024-04-29T03:20:13.187792Z"
    }
   },
   "cell_type": "code",
   "source": [
    "from homework_utils.previous_homework_func import calcualte_monthly_payment\n",
    "    \n",
    "class MBS:\n",
    "    def __init__(self, principal: float, wac: float,  og_maturity: int, og_principal: float, servicing_fee: float,  current_month: int, current_month_period: pd.Period | int):\n",
    "        \"\"\"\n",
    "        MBS class that simulates the MBS cashflows given the parameters. Assumes all loans have the same Coupon rate as WAC and same maturity.\n",
    "        Curtailments are assumed to be the only prepayments. (No prepayments)\n",
    "        :param principal: current principal/loan balance\n",
    "        :param wac:  Weighted Average Coupon rate\n",
    "        :param og_maturity:  original maturity of the loan\n",
    "        :param og_principal:  original principal of the loan\n",
    "        :param servicing_fee:  servicing fee + guarantee fee\n",
    "        :param current_month:  current time to maturity\n",
    "        \"\"\"\n",
    "        self.principal = principal # current principal amount\n",
    "        self.wac = wac\n",
    "        self.og_maturity = og_maturity\n",
    "        self.og_principal = og_principal\n",
    "        self.servicing_fee = servicing_fee\n",
    "        self.t = current_month # current month index\n",
    "        self.t_period_index = current_month_period\n",
    "        self.monthly_payment = calcualte_monthly_payment(self.og_principal, self.wac, self.og_maturity)\n",
    "        self._ongoing = principal > 0        \n",
    "        self._cashflows = {}\n",
    "    \n",
    "    def next_month_cash_flow(self, smm: float, **kwargs):\n",
    "        \"\"\"\n",
    "        Calculate the cash flow for the next month given the SMM from time t to t+1.\n",
    "        Cash flow includes total payment, interest, principal, servicing fee, scheduled principal, curtailment, net_cash_flow, net_interest_payment, etc\n",
    "        :param smm: float \n",
    "        :return: dictionary of cash flows of each type\n",
    "        \"\"\"\n",
    "        \n",
    "        if not self._ongoing:\n",
    "            raise ValueError('Loan has been paid off')\n",
    "        \n",
    "        prev_principal = self.principal\n",
    "        interest_payment = self.principal * self.wac / 12\n",
    "        scheduled_principal = self.monthly_payment - interest_payment\n",
    "        \n",
    "        if self.principal <= scheduled_principal:\n",
    "            # last month of the loan (everyone pays off the loan)\n",
    "            smm = 0 # no prepayments \n",
    "            self._ongoing = False\n",
    "            scheduled_principal = self.principal        \n",
    "\n",
    "        curtailment = (self.principal - scheduled_principal) * smm # scheduled balance * SMM\n",
    "        total_payment =self.monthly_payment + curtailment\n",
    "        principal_payment = scheduled_principal + curtailment\n",
    "        net_interest_payment = interest_payment * (1 - self.servicing_fee/12)\n",
    "        net_cash_flow = principal_payment + net_interest_payment\n",
    "        self.principal -= principal_payment\n",
    "        self.t += 1\n",
    "        self.t_period_index += 1\n",
    "        cashflow_record = {\n",
    "            'month_index': self.t,\n",
    "            'month_period': self.t_period_index,\n",
    "            'total_payment': total_payment,\n",
    "            'interest_payment': interest_payment,\n",
    "            'principal_payment': principal_payment,\n",
    "            'scheduled_principal': scheduled_principal,\n",
    "            'net_interest_payment': net_interest_payment,\n",
    "            'curtailment': curtailment,\n",
    "            'net_cash_flow': net_cash_flow,\n",
    "            'principal': self.principal,\n",
    "            'SMM': smm,\n",
    "            'prev_principal': prev_principal\n",
    "        }\n",
    "        # add whatever it is from kwargs to the cashflow_record\n",
    "        for k, v in kwargs.items():\n",
    "            cashflow_record[k] = v\n",
    "    \n",
    "        self._cashflows[self.t_period_index] = cashflow_record\n",
    "        return cashflow_record\n",
    "    \n",
    "    def get_cashflows(self):\n",
    "        return self._cashflows\n",
    "    \n",
    "    def has_next_month(self):\n",
    "        return self._ongoing\n",
    "    \n",
    "    "
   ],
   "id": "e0afaa63873a376c",
   "outputs": [],
   "execution_count": 19
  },
  {
   "metadata": {},
   "cell_type": "markdown",
   "source": [
    "## Simulation - One path simulation for the MBS\n",
    "\n",
    "Let us simulate the MBS cashflows for the first path of the forward rate simulation data as for demonstration purposes."
   ],
   "id": "51f12fd5ec6be198"
  },
  {
   "metadata": {
    "ExecuteTime": {
     "end_time": "2024-04-29T03:20:13.201197Z",
     "start_time": "2024-04-29T03:20:13.193360Z"
    }
   },
   "cell_type": "code",
   "source": [
    "mbs = MBS(principal = current_loan_balance, wac = c,  og_maturity = og_maturity , og_principal= original_loan_balance, \n",
    "          servicing_fee = fee,  current_month = WALA, current_month_period= 0)\n",
    "\n",
    "print(\"Current Principal:\", mbs.principal)\n",
    "print(\"Current WAC:\", mbs.wac)\n",
    "print(\"Original Maturity:\", mbs.og_maturity)\n",
    "print(\"Original Principal:\", mbs.og_principal)\n",
    "print(\"Servicing Fee:\", mbs.servicing_fee)\n",
    "print(\"Monthly Payment:\", mbs.monthly_payment)\n",
    "print(\"Current Month (where 0 means the month of initiation):\", mbs.t)\n",
    "print(\"Current Period (where 0 means current time):\", mbs.t_period_index)\n",
    "print(\"-------------------------------\")\n",
    "rate_path1 = forward_rate_paths.iloc[:,0].values\n",
    "fyc = ForwardYieldCurve(rate_path1)\n",
    "c = mbs.wac # mortgage rate\n",
    "scurve = SCurve(psa_data)\n",
    "for month_index in range(1, 2):\n",
    "    cur_r = fyc.get_prevailing_mortgage_rate(month_index) # prevailing mortgage rate\n",
    "    x = (cur_r - c) * 10000 # in bps\n",
    "    psa = PSA(scurve.get_psa(x))\n",
    "    smm = psa.SMM(month_index + WALA)\n",
    "    cashflow = mbs.next_month_cash_flow(smm, psa=psa.speed, x= x)\n",
    "    print(cashflow)\n",
    "    print(\"Current Month:\", month_index + WALA, mbs.t)\n",
    "    print(\"SMM:\", smm)\n",
    "    print(\"PSA:\", psa.speed)"
   ],
   "id": "7088385a1623f7d4",
   "outputs": [
    {
     "name": "stdout",
     "output_type": "stream",
     "text": [
      "Current Principal: 405903000000\n",
      "Current WAC: 0.0407\n",
      "Original Maturity: 360\n",
      "Original Principal: 518318000000\n",
      "Servicing Fee: 0.005699999999999997\n",
      "Monthly Payment: 2495492211.5764728\n",
      "Current Month (where 0 means the month of initiation): 29\n",
      "Current Period (where 0 means current time): 0\n",
      "-------------------------------\n",
      "{'month_index': 30, 'month_period': 1, 'total_payment': 4214955336.512455, 'interest_payment': 1376687675.0, 'principal_payment': 2838267661.512455, 'scheduled_principal': 1118804536.5764728, 'net_interest_payment': 1376033748.354375, 'curtailment': 1719463124.935982, 'net_cash_flow': 4214301409.86683, 'principal': 403064732338.48755, 'SMM': 0.00424785143344697, 'prev_principal': 405903000000, 'psa': 83, 'x': 352.0081416879643}\n",
      "Current Month: 30 30\n",
      "SMM: 0.00424785143344697\n",
      "PSA: 83\n"
     ]
    }
   ],
   "execution_count": 20
  },
  {
   "metadata": {},
   "cell_type": "markdown",
   "source": "Notice: month_index is the month index where 0 means the initial month and month_period means the current time period where 0 means the current time period.",
   "id": "78669b067af2a7e8"
  },
  {
   "metadata": {
    "ExecuteTime": {
     "end_time": "2024-04-29T03:20:13.209357Z",
     "start_time": "2024-04-29T03:20:13.202104Z"
    }
   },
   "cell_type": "code",
   "source": [
    "mbs = MBS(principal = current_loan_balance, wac = c,  og_maturity = og_maturity , og_principal= original_loan_balance, \n",
    "          servicing_fee = fee,  current_month = WALA, current_month_period= 0)\n",
    "\n",
    "fyc = ForwardYieldCurve(rate_path1)\n",
    "c = mbs.wac # mortgage rate\n",
    "scurve = SCurve(psa_data)\n",
    "month_index = 1\n",
    "while mbs.has_next_month():\n",
    "    sr = fyc.get_swap_rate(month_index)\n",
    "    cur_r = fyc.get_prevailing_mortgage_rate(month_index) # prevailing mortgage rate\n",
    "    x = cur_r - c\n",
    "    x_bps = (cur_r - c)*10000 # in bps\n",
    "    psa_speed = scurve.get_psa(x_bps)\n",
    "    psa = PSA(psa_speed)\n",
    "    smm = psa.SMM(month_index + WALA)\n",
    "    mbs.next_month_cash_flow(smm, psa=psa.speed, Scurve_x = x, swap_rate = sr, prevailing_mortgage_rate = cur_r, cpr = psa.CPR(month_index + WALA))\n",
    "    month_index += 1"
   ],
   "id": "bfd18dee4aa0e0b8",
   "outputs": [],
   "execution_count": 21
  },
  {
   "metadata": {
    "ExecuteTime": {
     "end_time": "2024-04-29T03:20:13.304225Z",
     "start_time": "2024-04-29T03:20:13.210069Z"
    }
   },
   "cell_type": "code",
   "source": [
    "# plot rate_path1\n",
    "plt.plot(rate_path1, label='Forward Rate')\n",
    "plt.plot([fyc.get_swap_rate(i) for i in range(len(rate_path1))], label='Swap Rate')\n",
    "plt.plot([fyc.get_prevailing_mortgage_rate(i) for i in range(len(rate_path1))], label='Prevailing Mortgage Rate')\n",
    "# plot horizontal line at WAC\n",
    "plt.axhline(y=c, color='r', linestyle='-', label='WAC')\n",
    "plt.axhline(y=c+0.03, color='y', linestyle='-', label='WAC + 300bps')\n",
    "plt.title('Forward Rate Path 1')\n",
    "plt.legend()\n",
    "plt.xlabel('Month Index')"
   ],
   "id": "43b99a535e664de3",
   "outputs": [
    {
     "data": {
      "text/plain": [
       "Text(0.5, 0, 'Month Index')"
      ]
     },
     "execution_count": 22,
     "metadata": {},
     "output_type": "execute_result"
    },
    {
     "data": {
      "text/plain": [
       "<Figure size 640x480 with 1 Axes>"
      ],
      "image/png": "[encoded data removed]"
     },
     "metadata": {},
     "output_type": "display_data"
    }
   ],
   "execution_count": 22
  },
  {
   "metadata": {
    "ExecuteTime": {
     "end_time": "2024-04-29T03:20:13.306692Z",
     "start_time": "2024-04-29T03:20:13.305086Z"
    }
   },
   "cell_type": "code",
   "source": "cashflows_record = mbs.get_cashflows()",
   "id": "9de189dcbad1235f",
   "outputs": [],
   "execution_count": 23
  },
  {
   "metadata": {
    "ExecuteTime": {
     "end_time": "2024-04-29T03:20:13.310593Z",
     "start_time": "2024-04-29T03:20:13.307205Z"
    }
   },
   "cell_type": "code",
   "source": "cashflows_df = pd.DataFrame(cashflows_record).T",
   "id": "fec354a7dedd6560",
   "outputs": [],
   "execution_count": 24
  },
  {
   "metadata": {
    "ExecuteTime": {
     "end_time": "2024-04-29T03:20:13.313743Z",
     "start_time": "2024-04-29T03:20:13.311440Z"
    }
   },
   "cell_type": "code",
   "source": "cashflows_df = cashflows_df.rename(columns={'month_index': 'WALA', 'month_period': 'Month Index (Timeline)' })",
   "id": "bf83d34133184efd",
   "outputs": [],
   "execution_count": 25
  },
  {
   "metadata": {
    "ExecuteTime": {
     "end_time": "2024-04-29T03:20:13.322126Z",
     "start_time": "2024-04-29T03:20:13.314260Z"
    }
   },
   "cell_type": "code",
   "source": "cashflows_df",
   "id": "bd21c76acd302be1",
   "outputs": [
    {
     "data": {
      "text/plain": [
       "      WALA  Month Index (Timeline)  total_payment  interest_payment  \\\n",
       "1     30.0                     1.0   4.214955e+09      1.376688e+09   \n",
       "2     31.0                     2.0   4.202858e+09      1.367061e+09   \n",
       "3     32.0                     3.0   4.190771e+09      1.357443e+09   \n",
       "4     33.0                     4.0   4.178695e+09      1.347833e+09   \n",
       "5     34.0                     5.0   4.166629e+09      1.338232e+09   \n",
       "..     ...                     ...            ...               ...   \n",
       "149  178.0                   149.0   2.534397e+09      3.939370e+07   \n",
       "150  179.0                   150.0   2.523763e+09      3.093148e+07   \n",
       "151  180.0                   151.0   2.513138e+09      2.247663e+07   \n",
       "152  181.0                   152.0   2.502522e+09      1.402913e+07   \n",
       "153  182.0                   153.0   2.495492e+09      5.588995e+06   \n",
       "\n",
       "     principal_payment  scheduled_principal  net_interest_payment  \\\n",
       "1         2.838268e+09         1.118805e+09          1.376034e+09   \n",
       "2         2.835797e+09         1.128431e+09          1.366412e+09   \n",
       "3         2.833328e+09         1.138049e+09          1.356798e+09   \n",
       "4         2.830861e+09         1.147659e+09          1.347193e+09   \n",
       "5         2.828397e+09         1.157260e+09          1.337596e+09   \n",
       "..                 ...                  ...                   ...   \n",
       "149       2.495004e+09         2.456099e+09          3.937499e+07   \n",
       "150       2.492831e+09         2.464561e+09          3.091679e+07   \n",
       "151       2.490661e+09         2.473016e+09          2.246595e+07   \n",
       "152       2.488493e+09         2.481463e+09          1.402247e+07   \n",
       "153       1.647861e+09         1.647861e+09          5.586340e+06   \n",
       "\n",
       "      curtailment  net_cash_flow     principal       SMM  prev_principal  \\\n",
       "1    1.719463e+09   4.214301e+09  4.030647e+11  0.004248    4.059030e+11   \n",
       "2    1.707366e+09   4.202209e+09  4.002289e+11  0.004248    4.030647e+11   \n",
       "3    1.695279e+09   4.190126e+09  3.973956e+11  0.004248    4.002289e+11   \n",
       "4    1.683202e+09   4.178054e+09  3.945647e+11  0.004248    3.973956e+11   \n",
       "5    1.671137e+09   4.165993e+09  3.917363e+11  0.004248    3.945647e+11   \n",
       "..            ...            ...           ...       ...             ...   \n",
       "149  3.890501e+07   2.534379e+09  9.119846e+09  0.004248    1.161485e+10   \n",
       "150  2.827066e+07   2.523748e+09  6.627015e+09  0.004248    9.119846e+09   \n",
       "151  1.764557e+07   2.513127e+09  4.136354e+09  0.004248    6.627015e+09   \n",
       "152  7.029729e+06   2.502515e+09  1.647861e+09  0.004248    4.136354e+09   \n",
       "153  0.000000e+00   1.653447e+09  0.000000e+00  0.000000    1.647861e+09   \n",
       "\n",
       "      psa  Scurve_x  swap_rate  prevailing_mortgage_rate     cpr  \n",
       "1    83.0  0.035201   0.058401                  0.075901  0.0498  \n",
       "2    83.0  0.036086   0.059286                  0.076786  0.0498  \n",
       "3    83.0  0.036966   0.060166                  0.077666  0.0498  \n",
       "4    83.0  0.037844   0.061044                  0.078544  0.0498  \n",
       "5    83.0  0.038725   0.061925                  0.079425  0.0498  \n",
       "..    ...       ...        ...                       ...     ...  \n",
       "149  83.0  0.060720   0.083920                  0.101420  0.0498  \n",
       "150  83.0  0.060509   0.083709                  0.101209  0.0498  \n",
       "151  83.0  0.060302   0.083502                  0.101002  0.0498  \n",
       "152  83.0  0.060096   0.083296                  0.100796  0.0498  \n",
       "153  83.0  0.059885   0.083085                  0.100585  0.0498  \n",
       "\n",
       "[153 rows x 17 columns]"
      ],
      "text/html": [
       "<div>\n",
       "<style scoped>\n",
       "    .dataframe tbody tr th:only-of-type {\n",
       "        vertical-align: middle;\n",
       "    }\n",
       "\n",
       "    .dataframe tbody tr th {\n",
       "        vertical-align: top;\n",
       "    }\n",
       "\n",
       "    .dataframe thead th {\n",
       "        text-align: right;\n",
       "    }\n",
       "</style>\n",
       "<table border=\"1\" class=\"dataframe\">\n",
       "  <thead>\n",
       "    <tr style=\"text-align: right;\">\n",
       "      <th></th>\n",
       "      <th>WALA</th>\n",
       "      <th>Month Index (Timeline)</th>\n",
       "      <th>total_payment</th>\n",
       "      <th>interest_payment</th>\n",
       "      <th>principal_payment</th>\n",
       "      <th>scheduled_principal</th>\n",
       "      <th>net_interest_payment</th>\n",
       "      <th>curtailment</th>\n",
       "      <th>net_cash_flow</th>\n",
       "      <th>principal</th>\n",
       "      <th>SMM</th>\n",
       "      <th>prev_principal</th>\n",
       "      <th>psa</th>\n",
       "      <th>Scurve_x</th>\n",
       "      <th>swap_rate</th>\n",
       "      <th>prevailing_mortgage_rate</th>\n",
       "      <th>cpr</th>\n",
       "    </tr>\n",
       "  </thead>\n",
       "  <tbody>\n",
       "    <tr>\n",
       "      <th>1</th>\n",
       "      <td>30.0</td>\n",
       "      <td>1.0</td>\n",
       "      <td>4.214955e+09</td>\n",
       "      <td>1.376688e+09</td>\n",
       "      <td>2.838268e+09</td>\n",
       "      <td>1.118805e+09</td>\n",
       "      <td>1.376034e+09</td>\n",
       "      <td>1.719463e+09</td>\n",
       "      <td>4.214301e+09</td>\n",
       "      <td>4.030647e+11</td>\n",
       "      <td>0.004248</td>\n",
       "      <td>4.059030e+11</td>\n",
       "      <td>83.0</td>\n",
       "      <td>0.035201</td>\n",
       "      <td>0.058401</td>\n",
       "      <td>0.075901</td>\n",
       "      <td>0.0498</td>\n",
       "    </tr>\n",
       "    <tr>\n",
       "      <th>2</th>\n",
       "      <td>31.0</td>\n",
       "      <td>2.0</td>\n",
       "      <td>4.202858e+09</td>\n",
       "      <td>1.367061e+09</td>\n",
       "      <td>2.835797e+09</td>\n",
       "      <td>1.128431e+09</td>\n",
       "      <td>1.366412e+09</td>\n",
       "      <td>1.707366e+09</td>\n",
       "      <td>4.202209e+09</td>\n",
       "      <td>4.002289e+11</td>\n",
       "      <td>0.004248</td>\n",
       "      <td>4.030647e+11</td>\n",
       "      <td>83.0</td>\n",
       "      <td>0.036086</td>\n",
       "      <td>0.059286</td>\n",
       "      <td>0.076786</td>\n",
       "      <td>0.0498</td>\n",
       "    </tr>\n",
       "    <tr>\n",
       "      <th>3</th>\n",
       "      <td>32.0</td>\n",
       "      <td>3.0</td>\n",
       "      <td>4.190771e+09</td>\n",
       "      <td>1.357443e+09</td>\n",
       "      <td>2.833328e+09</td>\n",
       "      <td>1.138049e+09</td>\n",
       "      <td>1.356798e+09</td>\n",
       "      <td>1.695279e+09</td>\n",
       "      <td>4.190126e+09</td>\n",
       "      <td>3.973956e+11</td>\n",
       "      <td>0.004248</td>\n",
       "      <td>4.002289e+11</td>\n",
       "      <td>83.0</td>\n",
       "      <td>0.036966</td>\n",
       "      <td>0.060166</td>\n",
       "      <td>0.077666</td>\n",
       "      <td>0.0498</td>\n",
       "    </tr>\n",
       "    <tr>\n",
       "      <th>4</th>\n",
       "      <td>33.0</td>\n",
       "      <td>4.0</td>\n",
       "      <td>4.178695e+09</td>\n",
       "      <td>1.347833e+09</td>\n",
       "      <td>2.830861e+09</td>\n",
       "      <td>1.147659e+09</td>\n",
       "      <td>1.347193e+09</td>\n",
       "      <td>1.683202e+09</td>\n",
       "      <td>4.178054e+09</td>\n",
       "      <td>3.945647e+11</td>\n",
       "      <td>0.004248</td>\n",
       "      <td>3.973956e+11</td>\n",
       "      <td>83.0</td>\n",
       "      <td>0.037844</td>\n",
       "      <td>0.061044</td>\n",
       "      <td>0.078544</td>\n",
       "      <td>0.0498</td>\n",
       "    </tr>\n",
       "    <tr>\n",
       "      <th>5</th>\n",
       "      <td>34.0</td>\n",
       "      <td>5.0</td>\n",
       "      <td>4.166629e+09</td>\n",
       "      <td>1.338232e+09</td>\n",
       "      <td>2.828397e+09</td>\n",
       "      <td>1.157260e+09</td>\n",
       "      <td>1.337596e+09</td>\n",
       "      <td>1.671137e+09</td>\n",
       "      <td>4.165993e+09</td>\n",
       "      <td>3.917363e+11</td>\n",
       "      <td>0.004248</td>\n",
       "      <td>3.945647e+11</td>\n",
       "      <td>83.0</td>\n",
       "      <td>0.038725</td>\n",
       "      <td>0.061925</td>\n",
       "      <td>0.079425</td>\n",
       "      <td>0.0498</td>\n",
       "    </tr>\n",
       "    <tr>\n",
       "      <th>...</th>\n",
       "      <td>...</td>\n",
       "      <td>...</td>\n",
       "      <td>...</td>\n",
       "      <td>...</td>\n",
       "      <td>...</td>\n",
       "      <td>...</td>\n",
       "      <td>...</td>\n",
       "      <td>...</td>\n",
       "      <td>...</td>\n",
       "      <td>...</td>\n",
       "      <td>...</td>\n",
       "      <td>...</td>\n",
       "      <td>...</td>\n",
       "      <td>...</td>\n",
       "      <td>...</td>\n",
       "      <td>...</td>\n",
       "      <td>...</td>\n",
       "    </tr>\n",
       "    <tr>\n",
       "      <th>149</th>\n",
       "      <td>178.0</td>\n",
       "      <td>149.0</td>\n",
       "      <td>2.534397e+09</td>\n",
       "      <td>3.939370e+07</td>\n",
       "      <td>2.495004e+09</td>\n",
       "      <td>2.456099e+09</td>\n",
       "      <td>3.937499e+07</td>\n",
       "      <td>3.890501e+07</td>\n",
       "      <td>2.534379e+09</td>\n",
       "      <td>9.119846e+09</td>\n",
       "      <td>0.004248</td>\n",
       "      <td>1.161485e+10</td>\n",
       "      <td>83.0</td>\n",
       "      <td>0.060720</td>\n",
       "      <td>0.083920</td>\n",
       "      <td>0.101420</td>\n",
       "      <td>0.0498</td>\n",
       "    </tr>\n",
       "    <tr>\n",
       "      <th>150</th>\n",
       "      <td>179.0</td>\n",
       "      <td>150.0</td>\n",
       "      <td>2.523763e+09</td>\n",
       "      <td>3.093148e+07</td>\n",
       "      <td>2.492831e+09</td>\n",
       "      <td>2.464561e+09</td>\n",
       "      <td>3.091679e+07</td>\n",
       "      <td>2.827066e+07</td>\n",
       "      <td>2.523748e+09</td>\n",
       "      <td>6.627015e+09</td>\n",
       "      <td>0.004248</td>\n",
       "      <td>9.119846e+09</td>\n",
       "      <td>83.0</td>\n",
       "      <td>0.060509</td>\n",
       "      <td>0.083709</td>\n",
       "      <td>0.101209</td>\n",
       "      <td>0.0498</td>\n",
       "    </tr>\n",
       "    <tr>\n",
       "      <th>151</th>\n",
       "      <td>180.0</td>\n",
       "      <td>151.0</td>\n",
       "      <td>2.513138e+09</td>\n",
       "      <td>2.247663e+07</td>\n",
       "      <td>2.490661e+09</td>\n",
       "      <td>2.473016e+09</td>\n",
       "      <td>2.246595e+07</td>\n",
       "      <td>1.764557e+07</td>\n",
       "      <td>2.513127e+09</td>\n",
       "      <td>4.136354e+09</td>\n",
       "      <td>0.004248</td>\n",
       "      <td>6.627015e+09</td>\n",
       "      <td>83.0</td>\n",
       "      <td>0.060302</td>\n",
       "      <td>0.083502</td>\n",
       "      <td>0.101002</td>\n",
       "      <td>0.0498</td>\n",
       "    </tr>\n",
       "    <tr>\n",
       "      <th>152</th>\n",
       "      <td>181.0</td>\n",
       "      <td>152.0</td>\n",
       "      <td>2.502522e+09</td>\n",
       "      <td>1.402913e+07</td>\n",
       "      <td>2.488493e+09</td>\n",
       "      <td>2.481463e+09</td>\n",
       "      <td>1.402247e+07</td>\n",
       "      <td>7.029729e+06</td>\n",
       "      <td>2.502515e+09</td>\n",
       "      <td>1.647861e+09</td>\n",
       "      <td>0.004248</td>\n",
       "      <td>4.136354e+09</td>\n",
       "      <td>83.0</td>\n",
       "      <td>0.060096</td>\n",
       "      <td>0.083296</td>\n",
       "      <td>0.100796</td>\n",
       "      <td>0.0498</td>\n",
       "    </tr>\n",
       "    <tr>\n",
       "      <th>153</th>\n",
       "      <td>182.0</td>\n",
       "      <td>153.0</td>\n",
       "      <td>2.495492e+09</td>\n",
       "      <td>5.588995e+06</td>\n",
       "      <td>1.647861e+09</td>\n",
       "      <td>1.647861e+09</td>\n",
       "      <td>5.586340e+06</td>\n",
       "      <td>0.000000e+00</td>\n",
       "      <td>1.653447e+09</td>\n",
       "      <td>0.000000e+00</td>\n",
       "      <td>0.000000</td>\n",
       "      <td>1.647861e+09</td>\n",
       "      <td>83.0</td>\n",
       "      <td>0.059885</td>\n",
       "      <td>0.083085</td>\n",
       "      <td>0.100585</td>\n",
       "      <td>0.0498</td>\n",
       "    </tr>\n",
       "  </tbody>\n",
       "</table>\n",
       "<p>153 rows × 17 columns</p>\n",
       "</div>"
      ]
     },
     "execution_count": 26,
     "metadata": {},
     "output_type": "execute_result"
    }
   ],
   "execution_count": 26
  },
  {
   "metadata": {
    "ExecuteTime": {
     "end_time": "2024-04-29T03:20:13.401412Z",
     "start_time": "2024-04-29T03:20:13.322635Z"
    }
   },
   "cell_type": "code",
   "source": "cashflows_df.plot(x='Month Index (Timeline)', y='net_cash_flow', title='Net Cash Flow vs. Month Index')",
   "id": "712987865ce994b9",
   "outputs": [
    {
     "data": {
      "text/plain": [
       "<Axes: title={'center': 'Net Cash Flow vs. Month Index'}, xlabel='Month Index (Timeline)'>"
      ]
     },
     "execution_count": 27,
     "metadata": {},
     "output_type": "execute_result"
    },
    {
     "data": {
      "text/plain": [
       "<Figure size 640x480 with 1 Axes>"
      ],
      "image/png": "[encoded data removed]"
     },
     "metadata": {},
     "output_type": "display_data"
    }
   ],
   "execution_count": 27
  },
  {
   "metadata": {
    "ExecuteTime": {
     "end_time": "2024-04-29T03:20:13.478748Z",
     "start_time": "2024-04-29T03:20:13.402023Z"
    }
   },
   "cell_type": "code",
   "source": "cashflows_df[['Scurve_x']].plot(title='Scurve(X) vs. Month Index', xlabel='Month Index')",
   "id": "a06f8758e6337eae",
   "outputs": [
    {
     "data": {
      "text/plain": [
       "<Axes: title={'center': 'Scurve(X) vs. Month Index'}, xlabel='Month Index'>"
      ]
     },
     "execution_count": 28,
     "metadata": {},
     "output_type": "execute_result"
    },
    {
     "data": {
      "text/plain": [
       "<Figure size 640x480 with 1 Axes>"
      ],
      "image/png": "[encoded data removed]"
     },
     "metadata": {},
     "output_type": "display_data"
    }
   ],
   "execution_count": 28
  },
  {
   "metadata": {},
   "cell_type": "markdown",
   "source": "OAS solver class",
   "id": "ee886ab713846f20"
  },
  {
   "metadata": {
    "ExecuteTime": {
     "end_time": "2024-04-29T03:20:13.480990Z",
     "start_time": "2024-04-29T03:20:13.479391Z"
    }
   },
   "cell_type": "code",
   "source": "cashflows = {k: v['net_cash_flow'] for k,v in cashflows_record.items()}",
   "id": "ba6e7b40e7693d07",
   "outputs": [],
   "execution_count": 29
  },
  {
   "metadata": {
    "ExecuteTime": {
     "end_time": "2024-04-29T03:20:13.483572Z",
     "start_time": "2024-04-29T03:20:13.481618Z"
    }
   },
   "cell_type": "code",
   "source": [
    "result = {}\n",
    "temp_dict = {}\n",
    "temp_dict['rate_data'] = rate_path1\n",
    "temp_dict['cashflows'] = cashflows\n",
    "result['SIM1'] = temp_dict"
   ],
   "id": "4a4ba412246b33ae",
   "outputs": [],
   "execution_count": 30
  },
  {
   "metadata": {
    "ExecuteTime": {
     "end_time": "2024-04-29T03:20:13.486808Z",
     "start_time": "2024-04-29T03:20:13.484169Z"
    }
   },
   "cell_type": "code",
   "source": [
    "def calculate_mbs_price(cashflows: dict, yield_curve: ForwardYieldCurve, oas: float, verbose = False):\n",
    "        \"\"\"\n",
    "        Calculate the MBS price given the cash flows, yield curve, and OAS\n",
    "        :param cash_flow_dict: dictionary of cash flows for each SIMULATION\n",
    "        :param yield_curve: YieldCurve object\n",
    "        :param oas: OAS\n",
    "        :return: MBS price\n",
    "        \"\"\"\n",
    "        price = 0\n",
    "        start_index = min(cashflows.keys()) - 1\n",
    "        \n",
    "        max_period = max(cashflows.keys())\n",
    "        total_periods_length = (max_period - start_index)\n",
    "        discount_factor_map = {}\n",
    "        discount_factor_map[start_index] = 1\n",
    "        for i in range(1, total_periods_length+1):\n",
    "            period = start_index + i\n",
    "            forward_rate = yield_curve.get_forward_rate(period)\n",
    "            discount_factor = discount_factor_map[period-1] / (1 + (oas + forward_rate) / 12)\n",
    "            discount_factor_map[period] = discount_factor\n",
    "         \n",
    "        for period, cash_flow in cashflows.items():\n",
    "            forward_rate = yield_curve.get_forward_rate(period)\n",
    "            discounted_cf = cash_flow * discount_factor_map[period]\n",
    "            price += discounted_cf\n",
    "            if verbose:\n",
    "                print(f\"Period: {period}, Forward Rate: {forward_rate}, Cash Flow: {cash_flow}, Discounted Cash Flow: {discounted_cf}, period : {period} - wala: {start_index}\")\n",
    "        return price"
   ],
   "id": "7cef244bf3044b42",
   "outputs": [],
   "execution_count": 31
  },
  {
   "metadata": {
    "ExecuteTime": {
     "end_time": "2024-04-29T03:20:13.489226Z",
     "start_time": "2024-04-29T03:20:13.487385Z"
    }
   },
   "cell_type": "code",
   "source": [
    "price = calculate_mbs_price(cashflows, fyc, -0.02, verbose=False)\n",
    "print(\"MBS Price:\", price)\n",
    "print(\"Market Price:\", (104 + 21/32) * current_loan_balance/100)"
   ],
   "id": "7e87376b8e8aabb0",
   "outputs": [
    {
     "name": "stdout",
     "output_type": "stream",
     "text": [
      "MBS Price: 434822770507.40643\n",
      "Market Price: 424802858437.5\n"
     ]
    }
   ],
   "execution_count": 32
  },
  {
   "metadata": {
    "ExecuteTime": {
     "end_time": "2024-04-29T03:20:13.491855Z",
     "start_time": "2024-04-29T03:20:13.489737Z"
    }
   },
   "cell_type": "code",
   "source": [
    "def avg_mbs_price(oas: float, cash_flows_paths_dict: dict, shock_bps: Optional[float] = None):\n",
    "    \"\"\"\n",
    "    Calculate the average MBS price given the OAS, cash flows, and yield curve\n",
    "    :param oas: OAS\n",
    "    :param cash_flows_paths_dict: dictionary of cash flows for SIMNULATION # key: SIM1, SIM2, ... etc\n",
    "    :param yield_curve: ForwardYieldCurve object\n",
    "    :param shock_bps: shock in bps\n",
    "    :return: average MBS price\n",
    "    \"\"\"\n",
    "    prices = []\n",
    "    for _, data in cash_flows_paths_dict.items():\n",
    "        rate_data = data['rate_data']\n",
    "        cash_flows = data['cashflows']\n",
    "        yield_curve = ForwardYieldCurve(rate_data)\n",
    "        if shock_bps:\n",
    "            yield_curve.shock(shock_bps)\n",
    "        price = calculate_mbs_price(cash_flows, yield_curve, oas)\n",
    "        prices.append(price)\n",
    "    return np.mean(prices)"
   ],
   "id": "988600035bc02050",
   "outputs": [],
   "execution_count": 33
  },
  {
   "metadata": {
    "ExecuteTime": {
     "end_time": "2024-04-29T03:20:13.613657Z",
     "start_time": "2024-04-29T03:20:13.492405Z"
    }
   },
   "cell_type": "code",
   "source": [
    "from scipy.optimize import fsolve\n",
    "market_price = (104 + 21/32) * current_loan_balance / 100\n",
    "def f(o, r, mp):\n",
    "    return abs(avg_mbs_price(o, r) - mp)\n",
    "    \n",
    "oas_result = fsolve(f, 0.01, xtol=1e-10, args=(result, market_price))\n",
    "oas = oas_result[0]\n",
    "print(f\"OAS: {round(oas, 6)}\")\n",
    "print(f\"Market Price-mbs_price: {round(market_price - avg_mbs_price(oas, result), 2)}\")"
   ],
   "id": "c3bdf26c8bb41634",
   "outputs": [
    {
     "name": "stdout",
     "output_type": "stream",
     "text": [
      "OAS: -0.015446\n",
      "Market Price-mbs_price: 0.0\n"
     ]
    }
   ],
   "execution_count": 34
  },
  {
   "metadata": {},
   "cell_type": "markdown",
   "source": "# Simulation(s) - N paths simulation for the MBS",
   "id": "6ae848eeefa427b"
  },
  {
   "metadata": {
    "ExecuteTime": {
     "end_time": "2024-04-29T03:20:15.900226Z",
     "start_time": "2024-04-29T03:20:13.614894Z"
    }
   },
   "cell_type": "code",
   "source": [
    "N = 500\n",
    "\n",
    "result = {}\n",
    "for i in range(N):\n",
    "    mbs = MBS(principal = current_loan_balance, wac = c,  og_maturity = og_maturity , og_principal= original_loan_balance, \n",
    "          servicing_fee = fee,  current_month = WALA, current_month_period= 0)\n",
    "    _path = forward_rate_paths.iloc[:,i].values\n",
    "    fyc = ForwardYieldCurve(_path)\n",
    "    c = mbs.wac # mortgage rate\n",
    "    scurve = SCurve(psa_data)\n",
    "    month_index = 0\n",
    "    while mbs.has_next_month():\n",
    "        sr = fyc.get_swap_rate(month_index)\n",
    "        cur_r = fyc.get_prevailing_mortgage_rate(month_index) # prevailing mortgage rate\n",
    "        x = (cur_r - c) * 10000 # in bps\n",
    "        psa = PSA(scurve.get_psa(x))\n",
    "        smm = psa.SMM(month_index)\n",
    "        mbs.next_month_cash_flow(smm)\n",
    "        month_index += 1\n",
    "    cashflows_record = mbs.get_cashflows()\n",
    "    cashflows = {k: v['net_cash_flow'] for k,v in cashflows_record.items()}\n",
    "    _sim_result = {}\n",
    "    _sim_result['rate_data'] = _path\n",
    "    _sim_result['cashflows'] = cashflows\n",
    "    result[f'SIM{i+1}'] = _sim_result"
   ],
   "id": "c75abc604fbf49e8",
   "outputs": [],
   "execution_count": 35
  },
  {
   "metadata": {
    "ExecuteTime": {
     "end_time": "2024-04-29T03:20:15.902738Z",
     "start_time": "2024-04-29T03:20:15.900871Z"
    }
   },
   "cell_type": "code",
   "source": "print(\"Number of simulations:\", len(result))",
   "id": "75a34079d9afb623",
   "outputs": [
    {
     "name": "stdout",
     "output_type": "stream",
     "text": [
      "Number of simulations: 500\n"
     ]
    }
   ],
   "execution_count": 36
  },
  {
   "metadata": {
    "ExecuteTime": {
     "end_time": "2024-04-29T03:20:17.642072Z",
     "start_time": "2024-04-29T03:20:15.903480Z"
    }
   },
   "cell_type": "code",
   "source": [
    "from scipy.optimize import fsolve\n",
    "market_price = (104 + 21/32) * current_loan_balance / 100\n",
    "def f(oas):\n",
    "    return abs(avg_mbs_price(oas, result) - market_price)\n",
    "    \n",
    "oas_result = fsolve(f, 0.01, xtol=1e-10)\n",
    "oas = oas_result[0]\n",
    "print(f\"OAS: {round(oas, 6)}\")\n",
    "print(f\"Market Price-mbs_price: {round(market_price - avg_mbs_price(oas, result), 2)}\")"
   ],
   "id": "31434a338f341925",
   "outputs": [
    {
     "name": "stdout",
     "output_type": "stream",
     "text": [
      "OAS: 0.008693\n",
      "Market Price-mbs_price: 0.0\n"
     ]
    }
   ],
   "execution_count": 37
  },
  {
   "metadata": {},
   "cell_type": "markdown",
   "source": [
    "# OAS Result\n",
    "\n",
    "The OAS is 0.008693 or 86.93 bps."
   ],
   "id": "f2138e0859c2dc14"
  },
  {
   "metadata": {},
   "cell_type": "markdown",
   "source": [
    "# Sensitivity Analysis - Problem 2 (Part I)\n",
    "\n",
    "Assuming CPRs do not change when rates are shocked, calculate \n",
    "\n",
    "PV01 (change in PV for +1bp shock to interest rates)\n",
    "\n",
    "PV+50 (change in PV after shocking forwards up 50bps)\n",
    "\n",
    "PV+100\n"
   ],
   "id": "96b41d5ff9820c57"
  },
  {
   "metadata": {
    "ExecuteTime": {
     "end_time": "2024-04-29T03:26:07.536169Z",
     "start_time": "2024-04-29T03:26:07.480825Z"
    }
   },
   "cell_type": "code",
   "source": [
    "oas = 0.008693\n",
    "PV01 = avg_mbs_price(oas = oas, cash_flows_paths_dict = result, shock_bps = 1) - avg_mbs_price(oas = oas, cash_flows_paths_dict = result)\n",
    "print(\"PV01:\", PV01)"
   ],
   "id": "e3e9b65c42cb6491",
   "outputs": [
    {
     "name": "stdout",
     "output_type": "stream",
     "text": [
      "PV01: -173361363.7012329\n"
     ]
    }
   ],
   "execution_count": 47
  },
  {
   "metadata": {
    "ExecuteTime": {
     "end_time": "2024-04-29T03:26:10.755485Z",
     "start_time": "2024-04-29T03:26:10.690886Z"
    }
   },
   "cell_type": "code",
   "source": [
    "PV50 = avg_mbs_price(oas = oas, cash_flows_paths_dict = result, shock_bps = 50) - avg_mbs_price(oas = oas, cash_flows_paths_dict = result)\n",
    "print(\"PV50:\", PV50)"
   ],
   "id": "5f90a71bbf2a22ef",
   "outputs": [
    {
     "name": "stdout",
     "output_type": "stream",
     "text": [
      "PV50: -8536867795.659424\n"
     ]
    }
   ],
   "execution_count": 49
  },
  {
   "metadata": {
    "ExecuteTime": {
     "end_time": "2024-04-29T03:26:28.025467Z",
     "start_time": "2024-04-29T03:26:27.965279Z"
    }
   },
   "cell_type": "code",
   "source": [
    "PV100 = avg_mbs_price(oas = oas, cash_flows_paths_dict = result, shock_bps = 100) - avg_mbs_price(oas = oas, cash_flows_paths_dict = result)\n",
    "print(\"PV100:\", PV100)"
   ],
   "id": "ab2c55045a5f0e79",
   "outputs": [
    {
     "name": "stdout",
     "output_type": "stream",
     "text": [
      "PV100: -16812835835.473755\n"
     ]
    }
   ],
   "execution_count": 51
  },
  {
   "metadata": {},
   "cell_type": "markdown",
   "source": [
    "# Part II \n",
    "\n",
    "Hold OAS constant and calculate chg in PV if rates rise 50bps, 100bps."
   ],
   "id": "df5f2f8674c5d529"
  },
  {
   "metadata": {
    "ExecuteTime": {
     "end_time": "2024-04-29T03:30:52.692727Z",
     "start_time": "2024-04-29T03:30:50.376237Z"
    }
   },
   "cell_type": "code",
   "source": [
    "N = 500\n",
    "scurve = SCurve(psa_data)\n",
    "result_50bps = {}\n",
    "for i in range(N):\n",
    "    mbs = MBS(principal = current_loan_balance, wac = c,  og_maturity = og_maturity , og_principal= original_loan_balance, \n",
    "          servicing_fee = fee,  current_month = WALA, current_month_period= 0)\n",
    "    _path = forward_rate_paths.iloc[:,i].values\n",
    "    fyc = ForwardYieldCurve(_path)\n",
    "    fyc.shock(50)\n",
    "    c = mbs.wac # mortgage rate\n",
    "    month_index = 0\n",
    "    while mbs.has_next_month():\n",
    "        sr = fyc.get_swap_rate(month_index)\n",
    "        cur_r = fyc.get_prevailing_mortgage_rate(month_index) # prevailing mortgage rate\n",
    "        x = (cur_r - c) * 10000 # in bps\n",
    "        psa = PSA(scurve.get_psa(x))\n",
    "        smm = psa.SMM(month_index)\n",
    "        mbs.next_month_cash_flow(smm)\n",
    "        month_index += 1\n",
    "    cashflows_record = mbs.get_cashflows()\n",
    "    cashflows = {k: v['net_cash_flow'] for k,v in cashflows_record.items()}\n",
    "    _sim_result_50bps = {'rate_data': _path, 'cashflows': cashflows}\n",
    "    result_50bps[f'SIM{i+1}'] = _sim_result_50bps"
   ],
   "id": "d287a74cb8511b25",
   "outputs": [],
   "execution_count": 52
  },
  {
   "metadata": {
    "ExecuteTime": {
     "end_time": "2024-04-29T03:32:15.951080Z",
     "start_time": "2024-04-29T03:32:15.892911Z"
    }
   },
   "cell_type": "code",
   "source": [
    "PV50_part2 = avg_mbs_price(oas = oas, cash_flows_paths_dict = result_50bps, shock_bps = 50) - avg_mbs_price(oas = oas, cash_flows_paths_dict = result)\n",
    "print(\"PV50 (holding OAS constant with CPR changed):\", PV50_part2)"
   ],
   "id": "c2bf00d0582ca32a",
   "outputs": [
    {
     "name": "stdout",
     "output_type": "stream",
     "text": [
      "PV50 (holding OAS constant with CPR changed): -7538600253.205505\n"
     ]
    }
   ],
   "execution_count": 53
  },
  {
   "metadata": {
    "ExecuteTime": {
     "end_time": "2024-04-29T03:32:53.253132Z",
     "start_time": "2024-04-29T03:32:50.920544Z"
    }
   },
   "cell_type": "code",
   "source": [
    "N = 500\n",
    "scurve = SCurve(psa_data)\n",
    "result_100bps = {}\n",
    "for i in range(N):\n",
    "    mbs = MBS(principal = current_loan_balance, wac = c,  og_maturity = og_maturity , og_principal= original_loan_balance, \n",
    "          servicing_fee = fee,  current_month = WALA, current_month_period= 0)\n",
    "    _path = forward_rate_paths.iloc[:,i].values\n",
    "    fyc = ForwardYieldCurve(_path)\n",
    "    fyc.shock(100)\n",
    "    c = mbs.wac # mortgage rate\n",
    "    month_index = 0\n",
    "    while mbs.has_next_month():\n",
    "        sr = fyc.get_swap_rate(month_index)\n",
    "        cur_r = fyc.get_prevailing_mortgage_rate(month_index) # prevailing mortgage rate\n",
    "        x = (cur_r - c) * 10000 # in bps\n",
    "        psa = PSA(scurve.get_psa(x))\n",
    "        smm = psa.SMM(month_index)\n",
    "        mbs.next_month_cash_flow(smm)\n",
    "        month_index += 1\n",
    "    cashflows_record = mbs.get_cashflows()\n",
    "    cashflows = {k: v['net_cash_flow'] for k,v in cashflows_record.items()}\n",
    "    _sim_result_100bps = {'rate_data': _path, 'cashflows': cashflows}\n",
    "    result_100bps[f'SIM{i+1}'] = _sim_result_100bps"
   ],
   "id": "1eb0309097449efd",
   "outputs": [],
   "execution_count": 54
  },
  {
   "metadata": {
    "ExecuteTime": {
     "end_time": "2024-04-29T03:32:56.362860Z",
     "start_time": "2024-04-29T03:32:56.303058Z"
    }
   },
   "cell_type": "code",
   "source": [
    "PV100_part2 = avg_mbs_price(oas = oas, cash_flows_paths_dict = result_100bps, shock_bps = 100) - avg_mbs_price(oas = oas, cash_flows_paths_dict = result)\n",
    "print(\"PV100 (holding OAS constant with CPR changed):\", PV100_part2)"
   ],
   "id": "1d4720e51e5a77bd",
   "outputs": [
    {
     "name": "stdout",
     "output_type": "stream",
     "text": [
      "PV100 (holding OAS constant with CPR changed): -15981269077.845947\n"
     ]
    }
   ],
   "execution_count": 55
  },
  {
   "metadata": {},
   "cell_type": "markdown",
   "source": [
    "# Problem 5\n",
    "\n",
    "Plot in one graph #2, #4\n",
    "X-axis: shock to forwards\n",
    "Y-axis: chg in Price\n",
    "Explain why PV changes at +50, +100 are different for #2 vs #4\n"
   ],
   "id": "3debe3cc4ec5ecf8"
  },
  {
   "metadata": {
    "ExecuteTime": {
     "end_time": "2024-04-29T03:38:29.781602Z",
     "start_time": "2024-04-29T03:38:29.686194Z"
    }
   },
   "cell_type": "code",
   "source": [
    "import matplotlib.pyplot as plt\n",
    "\n",
    "# Assuming shocks and corresponding PV changes are stored in lists\n",
    "shocks = [1, 50, 100]  # shocks to forwards\n",
    "pv_changes_2 = [PV01, PV50, PV100]  # PV changes for scenario #2\n",
    "pv_changes_4 = [np.nan, PV50_part2, PV100_part2]  # PV changes for scenario #4\n",
    "\n",
    "plt.plot(shocks, pv_changes_2, label='Scenario #2')\n",
    "plt.plot(shocks, pv_changes_4, label='Scenario #4')\n",
    "\n",
    "plt.xlabel('Shock to forwards (bps)')\n",
    "plt.ylabel('Change in Price')\n",
    "plt.title('Change in Price vs Shock to forwards')\n",
    "plt.legend()\n",
    "plt.show()"
   ],
   "id": "b673db2ca5341577",
   "outputs": [
    {
     "data": {
      "text/plain": [
       "<Figure size 640x480 with 1 Axes>"
      ],
      "image/png": "[encoded data removed]"
     },
     "metadata": {},
     "output_type": "display_data"
    }
   ],
   "execution_count": 56
  },
  {
   "metadata": {
    "ExecuteTime": {
     "end_time": "2024-04-29T03:42:42.662191Z",
     "start_time": "2024-04-29T03:42:42.519317Z"
    }
   },
   "cell_type": "code",
   "source": [
    "plot_result = pd.DataFrame(\n",
    "    {\n",
    "        '50': [PV50, PV50_part2],\n",
    "        '100': [PV100, PV100_part2]\n",
    "    },\n",
    "    index = ['P2(no cashflow change)', 'P4(cache flow change)']\n",
    ")\n",
    "\n",
    "plot_result.T.plot(kind='bar', figsize=(20, 10), title='PV Changes for P2 and P4')"
   ],
   "id": "d2ec291b9dd78cb7",
   "outputs": [
    {
     "data": {
      "text/plain": [
       "<Axes: title={'center': 'PV Changes for P2 and P4'}>"
      ]
     },
     "execution_count": 58,
     "metadata": {},
     "output_type": "execute_result"
    },
    {
     "data": {
      "text/plain": [
       "<Figure size 2000x1000 with 1 Axes>"
      ],
      "image/png": "[encoded data removed]"
     },
     "metadata": {},
     "output_type": "display_data"
    }
   ],
   "execution_count": 58
  },
  {
   "metadata": {},
   "cell_type": "markdown",
   "source": [
    "# Explanation\n",
    "\n",
    "P4 where cashflow has change will have a smaller change in price compared to P2 where cashflow does not change. This is because when interest rate rise, based on our S-curve model the CPR will decrease which will lead to a decrease in prepayments. This will lead to increase in the coupon amount which will offset the decrease in the price of the MBS due to the increase in interest rates.\n",
    "\n"
   ],
   "id": "9fd16baae5ab24ba"
  },
  {
   "metadata": {},
   "cell_type": "code",
   "outputs": [],
   "execution_count": null,
   "source": "",
   "id": "bdd15bf9154328c8"
  },
  {
   "metadata": {},
   "cell_type": "markdown",
   "source": "",
   "id": "f14d02a9dc92cb23"
  }
 ],
 "metadata": {
  "kernelspec": {
   "display_name": "Python 3",
   "language": "python",
   "name": "python3"
  },
  "language_info": {
   "codemirror_mode": {
    "name": "ipython",
    "version": 2
   },
   "file_extension": ".py",
   "mimetype": "text/x-python",
   "name": "python",
   "nbconvert_exporter": "python",
   "pygments_lexer": "ipython2",
   "version": "2.7.6"
  }
 },
 "nbformat": 4,
 "nbformat_minor": 5
}
